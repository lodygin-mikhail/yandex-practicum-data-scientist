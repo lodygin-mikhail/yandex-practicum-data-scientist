{
 "cells": [
  {
   "cell_type": "markdown",
   "metadata": {},
   "source": [
    "# Определение возраста покупателей"
   ]
  },
  {
   "cell_type": "markdown",
   "metadata": {},
   "source": [
    "**Описание проекта:**\n",
    "\n",
    "Сетевой супермаркет «Хлеб-Соль» внедряет систему компьютерного зрения для обработки фотографий покупателей. Фотофиксация в прикассовой зоне поможет определять возраст клиентов, чтобы:\n",
    "- Анализировать покупки и предлагать товары, которые могут заинтересовать покупателей этой возрастной группы;\n",
    "- Контролировать добросовестность кассиров при продаже алкоголя.\n",
    "\n",
    "**Цель проекта:**\n",
    "Построить модель, которая по фотографии определит приблизительный возраст человека. В нашем распоряжении набор фотографий людей с указанием возраста.\n",
    "\n",
    "**Задачи:**\n",
    "- Провести исследовательский анализ набора фотографий.\n",
    "- Подготовить данные к обучению.\n",
    "- Обучить нейронную сеть и рассчитайте её качество."
   ]
  },
  {
   "cell_type": "markdown",
   "metadata": {},
   "source": [
    "## Исследовательский анализ данных"
   ]
  },
  {
   "cell_type": "code",
   "execution_count": 1,
   "metadata": {},
   "outputs": [],
   "source": [
    "import pandas as pd\n",
    "import numpy as np\n",
    "import matplotlib.pyplot as plt\n",
    "import seaborn as sns\n",
    "from PIL import Image\n",
    "from keras.preprocessing.image import ImageDataGenerator"
   ]
  },
  {
   "cell_type": "code",
   "execution_count": 2,
   "metadata": {},
   "outputs": [
    {
     "data": {
      "text/html": [
       "<div>\n",
       "<style scoped>\n",
       "    .dataframe tbody tr th:only-of-type {\n",
       "        vertical-align: middle;\n",
       "    }\n",
       "\n",
       "    .dataframe tbody tr th {\n",
       "        vertical-align: top;\n",
       "    }\n",
       "\n",
       "    .dataframe thead th {\n",
       "        text-align: right;\n",
       "    }\n",
       "</style>\n",
       "<table border=\"1\" class=\"dataframe\">\n",
       "  <thead>\n",
       "    <tr style=\"text-align: right;\">\n",
       "      <th></th>\n",
       "      <th>file_name</th>\n",
       "      <th>real_age</th>\n",
       "    </tr>\n",
       "  </thead>\n",
       "  <tbody>\n",
       "    <tr>\n",
       "      <th>0</th>\n",
       "      <td>000000.jpg</td>\n",
       "      <td>4</td>\n",
       "    </tr>\n",
       "    <tr>\n",
       "      <th>1</th>\n",
       "      <td>000001.jpg</td>\n",
       "      <td>18</td>\n",
       "    </tr>\n",
       "    <tr>\n",
       "      <th>2</th>\n",
       "      <td>000002.jpg</td>\n",
       "      <td>80</td>\n",
       "    </tr>\n",
       "    <tr>\n",
       "      <th>3</th>\n",
       "      <td>000003.jpg</td>\n",
       "      <td>50</td>\n",
       "    </tr>\n",
       "    <tr>\n",
       "      <th>4</th>\n",
       "      <td>000004.jpg</td>\n",
       "      <td>17</td>\n",
       "    </tr>\n",
       "  </tbody>\n",
       "</table>\n",
       "</div>"
      ],
      "text/plain": [
       "    file_name  real_age\n",
       "0  000000.jpg         4\n",
       "1  000001.jpg        18\n",
       "2  000002.jpg        80\n",
       "3  000003.jpg        50\n",
       "4  000004.jpg        17"
      ]
     },
     "execution_count": 2,
     "metadata": {},
     "output_type": "execute_result"
    }
   ],
   "source": [
    "labels = pd.read_csv('/datasets/faces/labels.csv')\n",
    "labels.head()"
   ]
  },
  {
   "cell_type": "markdown",
   "metadata": {},
   "source": [
    "Рассмотрим подробнее датасет *labels*."
   ]
  },
  {
   "cell_type": "code",
   "execution_count": 3,
   "metadata": {},
   "outputs": [
    {
     "name": "stdout",
     "output_type": "stream",
     "text": [
      "<class 'pandas.core.frame.DataFrame'>\n",
      "RangeIndex: 7591 entries, 0 to 7590\n",
      "Data columns (total 2 columns):\n",
      " #   Column     Non-Null Count  Dtype \n",
      "---  ------     --------------  ----- \n",
      " 0   file_name  7591 non-null   object\n",
      " 1   real_age   7591 non-null   int64 \n",
      "dtypes: int64(1), object(1)\n",
      "memory usage: 118.7+ KB\n"
     ]
    }
   ],
   "source": [
    "labels.info()"
   ]
  },
  {
   "cell_type": "code",
   "execution_count": 4,
   "metadata": {},
   "outputs": [
    {
     "data": {
      "text/html": [
       "<div>\n",
       "<style scoped>\n",
       "    .dataframe tbody tr th:only-of-type {\n",
       "        vertical-align: middle;\n",
       "    }\n",
       "\n",
       "    .dataframe tbody tr th {\n",
       "        vertical-align: top;\n",
       "    }\n",
       "\n",
       "    .dataframe thead th {\n",
       "        text-align: right;\n",
       "    }\n",
       "</style>\n",
       "<table border=\"1\" class=\"dataframe\">\n",
       "  <thead>\n",
       "    <tr style=\"text-align: right;\">\n",
       "      <th></th>\n",
       "      <th>real_age</th>\n",
       "    </tr>\n",
       "  </thead>\n",
       "  <tbody>\n",
       "    <tr>\n",
       "      <th>count</th>\n",
       "      <td>7591.000000</td>\n",
       "    </tr>\n",
       "    <tr>\n",
       "      <th>mean</th>\n",
       "      <td>31.201159</td>\n",
       "    </tr>\n",
       "    <tr>\n",
       "      <th>std</th>\n",
       "      <td>17.145060</td>\n",
       "    </tr>\n",
       "    <tr>\n",
       "      <th>min</th>\n",
       "      <td>1.000000</td>\n",
       "    </tr>\n",
       "    <tr>\n",
       "      <th>25%</th>\n",
       "      <td>20.000000</td>\n",
       "    </tr>\n",
       "    <tr>\n",
       "      <th>50%</th>\n",
       "      <td>29.000000</td>\n",
       "    </tr>\n",
       "    <tr>\n",
       "      <th>75%</th>\n",
       "      <td>41.000000</td>\n",
       "    </tr>\n",
       "    <tr>\n",
       "      <th>max</th>\n",
       "      <td>100.000000</td>\n",
       "    </tr>\n",
       "  </tbody>\n",
       "</table>\n",
       "</div>"
      ],
      "text/plain": [
       "          real_age\n",
       "count  7591.000000\n",
       "mean     31.201159\n",
       "std      17.145060\n",
       "min       1.000000\n",
       "25%      20.000000\n",
       "50%      29.000000\n",
       "75%      41.000000\n",
       "max     100.000000"
      ]
     },
     "execution_count": 4,
     "metadata": {},
     "output_type": "execute_result"
    }
   ],
   "source": [
    "labels.describe()"
   ]
  },
  {
   "cell_type": "code",
   "execution_count": 5,
   "metadata": {},
   "outputs": [
    {
     "data": {
      "text/plain": [
       "(7591, 2)"
      ]
     },
     "execution_count": 5,
     "metadata": {},
     "output_type": "execute_result"
    }
   ],
   "source": [
    "labels.shape"
   ]
  },
  {
   "cell_type": "markdown",
   "metadata": {},
   "source": [
    "В таблице содержатся данные о 7591 фотографии. Пропусков данных нет. В датафрейме 2 признака: `file_name` с именами файлов и целевой признак `real_age` с возрастами людей, изображенных в файлах. Целевой признак имеет целочисленные значения, где каждое число означает год. Средний возраст людей на них — 31 год, медианный возраст — 29 лет. Есть фотографии людей с возрастом 1 год и 100 лет. "
   ]
  },
  {
   "cell_type": "markdown",
   "metadata": {},
   "source": [
    "Построим гистограмму возраста людей на фотографиях."
   ]
  },
  {
   "cell_type": "code",
   "execution_count": 6,
   "metadata": {},
   "outputs": [
    {
     "data": {
      "image/png": "[encoded data removed]",
      "text/plain": [
       "<Figure size 864x576 with 1 Axes>"
      ]
     },
     "metadata": {
      "needs_background": "light"
     },
     "output_type": "display_data"
    }
   ],
   "source": [
    "plt.figure(figsize=(12, 8))\n",
    "sns.histplot(data=labels, x='real_age', kde=True)\n",
    "plt.title('Гистограмма распределения возраста')\n",
    "plt.xlabel('Настоящий возраст')\n",
    "plt.ylabel('Частота')\n",
    "plt.show()"
   ]
  },
  {
   "cell_type": "markdown",
   "metadata": {},
   "source": [
    "По гистограмме видно, что данные распределены ненормально от 1 до 100 лет с большим всплеском ближе к нулю. Пик распределения расположен на значении возраста в 25-30 лет. Медиана приходится на возраст 29 лет.\n",
    "Также наблюдаются отдельные всплески в значениях возрастов кратных 5. Это может свидетельствовать о возможном округлении целевых значений возрастов при их разметке. "
   ]
  },
  {
   "cell_type": "markdown",
   "metadata": {},
   "source": [
    "Рассмотрим случайные картинки из нашего датасета, а также убедимся в правильности разметки целевого признака по ним."
   ]
  },
  {
   "cell_type": "code",
   "execution_count": null,
   "metadata": {},
   "outputs": [],
   "source": [
    "train_datagen = ImageDataGenerator(rescale=1./255)\n",
    "train_gen_flow = train_datagen.flow_from_dataframe(\n",
    "        dataframe=labels,\n",
    "        directory='/datasets/faces/final_files/',\n",
    "        x_col='file_name',\n",
    "        y_col='real_age',\n",
    "        target_size=(224, 224),\n",
    "        batch_size=32,\n",
    "        class_mode='raw',\n",
    "        seed=12345)"
   ]
  },
  {
   "cell_type": "code",
   "execution_count": null,
   "metadata": {
    "scrolled": false
   },
   "outputs": [],
   "source": [
    "images, labels = next(train_gen_flow)\n",
    "\n",
    "plt.figure(figsize=(15, 20))\n",
    "for i in range(10):\n",
    "    plt.subplot(5, 2, i+1)\n",
    "    plt.imshow(images[i])\n",
    "    plt.title(f'Label(Age): {labels[i]}')\n",
    "    plt.axis('off')\n",
    "plt.tight_layout()\n",
    "plt.show()"
   ]
  },
  {
   "cell_type": "markdown",
   "metadata": {},
   "source": [
    "**Вывод:** Таким образом, в процессе выполнения исследовательского анализа данных были получены следующие результаты:\n",
    "\n",
    "- В таблице содержатся записи о 7591 фотографии. Средний возраст людей на них — 31 год, медианный возраст — 29 лет. Есть фотографии людей с возрастом 1 год и 100 лет. \n",
    "\n",
    "- Данные распределены ненормально от 1 до 100 лет с большим всплеском ближе к нулю. Пик распределения расположен на значении возраста в 25-30 лет. \n",
    "\n",
    "- Фотографии ранее обработаны таким образом, что лица расположены практически вертикально и занимают большую часть изображения. Это означает, что не требуется дополнительная обработка изображений. Достаточно использовать аугментацию в процессе подготовки тренировочных данных."
   ]
  },
  {
   "cell_type": "markdown",
   "metadata": {},
   "source": [
    "## Обучение модели"
   ]
  },
  {
   "cell_type": "markdown",
   "metadata": {},
   "source": [
    "Перенесите сюда код обучения модели и её результат вывода на экран.\n",
    "\n",
    "\n",
    "(Код в этом разделе запускается в отдельном GPU-тренажёре, поэтому оформлен не как ячейка с кодом, а как код в текстовой ячейке)"
   ]
  },
  {
   "cell_type": "markdown",
   "metadata": {},
   "source": [
    "```python\n",
    "\n",
    "from tensorflow.keras import Sequential\n",
    "from tensorflow.keras.layers import Conv2D, MaxPooling2D, Flatten, Dense, GlobalAveragePooling2D, BatchNormalization, Dropout\n",
    "from tensorflow.keras.optimizers import Adam\n",
    "from tensorflow.keras.preprocessing.image import ImageDataGenerator\n",
    "from tensorflow.keras.applications.resnet import ResNet50\n",
    "import numpy as np\n",
    "import pandas as pd\n",
    "\n",
    "def load_train(path):\n",
    "\n",
    "    labels = pd.read_csv(path + 'labels.csv')\n",
    "    \n",
    "    train_datagen = ImageDataGenerator(\n",
    "    rescale=1./255,\n",
    "    validation_split=0.2,\n",
    "    rotation_range=45,\n",
    "    width_shift_range=0.4,\n",
    "    height_shift_range=0.4,\n",
    "    shear_range=0.4,\n",
    "    zoom_range=0.3,\n",
    "    horizontal_flip=True,\n",
    "    brightness_range=[0.6, 1.4], \n",
    "    fill_mode='reflect'\n",
    "    )\n",
    "    \n",
    "    train_generator = train_datagen.flow_from_dataframe(\n",
    "        dataframe=labels,\n",
    "        directory=path + 'final_files/',\n",
    "        target_size=(224, 224),\n",
    "        x_col='file_name',\n",
    "        y_col='real_age',\n",
    "        batch_size=32,\n",
    "        subset='training',\n",
    "        class_mode='raw',\n",
    "        seed=12345\n",
    "    )\n",
    "    return train_generator\n",
    "\n",
    "def load_test(path):\n",
    "\n",
    "    labels = pd.read_csv(path + 'labels.csv')\n",
    "    \n",
    "    test_datagen = ImageDataGenerator(validation_split=0.2,\n",
    "        rescale=1./255)\n",
    "    \n",
    "    test_generator = test_datagen.flow_from_dataframe(\n",
    "        dataframe=labels,\n",
    "        directory=path + 'final_files/',\n",
    "        target_size=(224, 224),\n",
    "        x_col='file_name',\n",
    "        y_col='real_age',\n",
    "        batch_size=32,\n",
    "        class_mode='raw',\n",
    "        subset='validation',\n",
    "        shuffle=False,\n",
    "        seed=12345\n",
    "    )\n",
    "    return test_generator\n",
    "\n",
    "def create_model(input_shape=(224, 224, 3)):\n",
    "    \n",
    "    backbone = ResNet50(input_shape=input_shape,\n",
    "                    weights='/datasets/keras_models/resnet50_weights_tf_dim_ordering_tf_kernels_notop.h5',\n",
    "                    include_top=False)\n",
    "    \n",
    "    model = Sequential()\n",
    "    model.add(backbone)\n",
    "    model.add(GlobalAveragePooling2D())\n",
    "    model.add(Dense(1, activation='relu'))\n",
    "    \n",
    "    model.compile(\n",
    "        optimizer=Adam(learning_rate=0.0001),\n",
    "        loss='mse',\n",
    "        metrics=['mae']\n",
    "    )\n",
    "    \n",
    "    return model\n",
    "\n",
    "def train_model(model, train_data, test_data, batch_size=None, epochs=10,\n",
    "                steps_per_epoch=None, validation_steps=None):\n",
    "    \n",
    "    model.fit(train_data,\n",
    "              validation_data=test_data,\n",
    "              batch_size=batch_size,\n",
    "              epochs=epochs,\n",
    "              steps_per_epoch=steps_per_epoch,\n",
    "              validation_steps=validation_steps,\n",
    "              verbose=2)\n",
    "    \n",
    "    return model\n",
    "\n",
    "```"
   ]
  },
  {
   "cell_type": "markdown",
   "metadata": {},
   "source": [
    "```\n",
    "\n",
    "Train for 190 steps, validate for 48 steps\n",
    "Epoch 1/10\n",
    "190/190 - 164s - loss: 390.6204 - mae: 14.7898 - val_loss: 513.5368 - val_mae: 17.4612\n",
    "Epoch 2/10\n",
    "190/190 - 120s - loss: 158.2750 - mae: 9.5556 - val_loss: 626.4507 - val_mae: 19.7913\n",
    "Epoch 3/10\n",
    "190/190 - 120s - loss: 136.5410 - mae: 8.8673 - val_loss: 260.9318 - val_mae: 11.8654\n",
    "Epoch 4/10\n",
    "190/190 - 124s - loss: 123.2722 - mae: 8.3651 - val_loss: 117.8208 - val_mae: 8.2835\n",
    "Epoch 5/10\n",
    "190/190 - 133s - loss: 113.5279 - mae: 8.1051 - val_loss: 87.9478 - val_mae: 7.2298\n",
    "Epoch 6/10\n",
    "190/190 - 126s - loss: 106.3773 - mae: 7.7975 - val_loss: 78.8947 - val_mae: 6.5944\n",
    "Epoch 7/10\n",
    "190/190 - 119s - loss: 102.0992 - mae: 7.6600 - val_loss: 86.8422 - val_mae: 7.1774\n",
    "Epoch 8/10\n",
    "Epoch 9/10\n",
    "190/190 - 120s - loss: 94.2131 - mae: 7.3507 - val_loss: 113.5896 - val_mae: 7.6782\n",
    "190/190 - 121s - loss: 89.4169 - mae: 7.1932 - val_loss: 74.8827 - val_mae: 6.6658\n",
    "Epoch 10/10\n",
    "190/190 - 119s - loss: 84.1882 - mae: 6.9686 - val_loss: 84.5017 - val_mae: 6.8359\n",
    "\n",
    "48/48 - 9s - loss: 84.5017 - mae: 6.8359\n",
    "\n",
    "```"
   ]
  },
  {
   "cell_type": "markdown",
   "metadata": {},
   "source": [
    "**Вывод:** \n",
    "\n",
    "Цель обучения нейросети достигнута. В результате выполнения кода, созданной нейросети на GPU с валидационными данными, получено значение показателя «MAE» равного 6.8359. Это меньше целевого значания 8. Так как «MAE» измеряется в абсолютных величинах, то полученый результат означает, что созданная модель ошибается в предсказании возраста человека по его фотографиии в среднем на 6.9589 лет."
   ]
  },
  {
   "cell_type": "markdown",
   "metadata": {},
   "source": [
    "## Анализ обученной модели"
   ]
  },
  {
   "cell_type": "markdown",
   "metadata": {},
   "source": [
    "Супермаркету \"Хлеб-Соль\" необходима система компьютерного зрения для двух целей:\n",
    "\n",
    "- Анализировать покупки и предлагать товары, которые могут заинтересовать покупателей этой возрастной группы;\n",
    "- Контролировать добросовестность кассиров при продаже алкоголя.\n",
    "\n",
    "Для первой задачи наша модель подходит, так как её качества хватает, чтобы выделять отдельные категории покупателей по возрасту (молодежь, взрослые, пожилые и т.д.) и предлагать соответствующие товары.\n",
    "\n",
    "Однако для строгого контроля (например, проверки возраста при продаже алкоголя) точности модели недостаточно. Ошибка в 6,8 лет критична: например, покупатель 20 лет может быть ошибочно классифицирован как 27-летний (продажа разрешена), а 17-летний — как 24-летний (незаконная продажа). Как альтернативу, модель можно использовать для предварительного отбора подозрительных случаев. Например:\n",
    "\n",
    "- Фиксировать все продажи алкоголя покупателям с предсказанным возрастом до 30 лет,\n",
    "\n",
    "- Передавать эти случаи на ручную проверку ответственным сотрудникам."
   ]
  },
  {
   "cell_type": "code",
   "execution_count": null,
   "metadata": {},
   "outputs": [],
   "source": []
  }
 ],
 "metadata": {
  "ExecuteTimeLog": [
   {
    "duration": 3444,
    "start_time": "2025-05-22T19:18:17.999Z"
   },
   {
    "duration": 87,
    "start_time": "2025-05-22T19:18:22.537Z"
   },
   {
    "duration": 14,
    "start_time": "2025-05-22T19:18:23.377Z"
   },
   {
    "duration": 5,
    "start_time": "2025-05-22T19:18:23.916Z"
   },
   {
    "duration": 272,
    "start_time": "2025-05-22T19:18:24.340Z"
   },
   {
    "duration": 87542,
    "start_time": "2025-05-22T19:18:24.816Z"
   },
   {
    "duration": 3334,
    "start_time": "2025-05-22T19:19:52.360Z"
   },
   {
    "duration": 2903,
    "start_time": "2025-05-22T19:23:40.358Z"
   },
   {
    "duration": 324,
    "start_time": "2025-05-22T19:26:27.373Z"
   },
   {
    "duration": 4,
    "start_time": "2025-05-22T19:26:39.585Z"
   },
   {
    "duration": 40,
    "start_time": "2025-05-22T19:26:40.591Z"
   },
   {
    "duration": 12,
    "start_time": "2025-05-22T19:26:42.071Z"
   },
   {
    "duration": 14,
    "start_time": "2025-05-22T19:26:42.543Z"
   },
   {
    "duration": 2857,
    "start_time": "2025-05-22T20:07:08.764Z"
   },
   {
    "duration": 42,
    "start_time": "2025-05-22T20:07:11.623Z"
   },
   {
    "duration": 13,
    "start_time": "2025-05-22T20:07:11.667Z"
   },
   {
    "duration": 136,
    "start_time": "2025-05-22T20:07:11.682Z"
   },
   {
    "duration": 18,
    "start_time": "2025-05-22T20:07:11.820Z"
   },
   {
    "duration": 284,
    "start_time": "2025-05-22T20:07:11.840Z"
   }
  ],
  "kernelspec": {
   "display_name": "Python 3 (ipykernel)",
   "language": "python",
   "name": "python3"
  },
  "language_info": {
   "codemirror_mode": {
    "name": "ipython",
    "version": 3
   },
   "file_extension": ".py",
   "mimetype": "text/x-python",
   "name": "python",
   "nbconvert_exporter": "python",
   "pygments_lexer": "ipython3",
   "version": "3.9.5"
  },
  "toc": {
   "base_numbering": 1,
   "nav_menu": {},
   "number_sections": true,
   "sideBar": true,
   "skip_h1_title": true,
   "title_cell": "Table of Contents",
   "title_sidebar": "Contents",
   "toc_cell": false,
   "toc_position": {},
   "toc_section_display": true,
   "toc_window_display": false
  }
 },
 "nbformat": 4,
 "nbformat_minor": 2
}
