{
 "cells": [
  {
   "cell_type": "markdown",
   "metadata": {
    "toc": true
   },
   "source": [
    "<h1>Содержание<span class=\"tocSkip\"></span></h1>\n",
    "<div class=\"toc\"><ul class=\"toc-item\"><li><span><a href=\"#Подготовка\" data-toc-modified-id=\"Подготовка-1\"><span class=\"toc-item-num\">1&nbsp;&nbsp;</span>Подготовка</a></span></li><li><span><a href=\"#Анализ\" data-toc-modified-id=\"Анализ-2\"><span class=\"toc-item-num\">2&nbsp;&nbsp;</span>Анализ</a></span></li><li><span><a href=\"#Обучение\" data-toc-modified-id=\"Обучение-3\"><span class=\"toc-item-num\">3&nbsp;&nbsp;</span>Обучение</a></span></li><li><span><a href=\"#Тестирование\" data-toc-modified-id=\"Тестирование-4\"><span class=\"toc-item-num\">4&nbsp;&nbsp;</span>Тестирование</a></span></li><li><span><a href=\"#Выводы\" data-toc-modified-id=\"Выводы-5\"><span class=\"toc-item-num\">5&nbsp;&nbsp;</span>Выводы</a></span></li><li><span><a href=\"#Чек-лист-проверки\" data-toc-modified-id=\"Чек-лист-проверки-6\"><span class=\"toc-item-num\">6&nbsp;&nbsp;</span>Чек-лист проверки</a></span></li></ul></div>"
   ]
  },
  {
   "cell_type": "markdown",
   "metadata": {},
   "source": [
    "#  Прогнозирование заказов такси"
   ]
  },
  {
   "cell_type": "markdown",
   "metadata": {},
   "source": [
    "Компания «Чётенькое такси» собрала исторические данные о заказах такси в аэропортах. Чтобы привлекать больше водителей в период пиковой нагрузки, нужно спрогнозировать количество заказов такси на следующий час. Постройте модель для такого предсказания.\n",
    "\n",
    "Значение метрики *RMSE* на тестовой выборке должно быть не больше 48.\n",
    "\n",
    "Вам нужно:\n",
    "\n",
    "1. Загрузить данные и выполнить их ресемплирование по одному часу.\n",
    "2. Проанализировать данные.\n",
    "3. Обучить разные модели с различными гиперпараметрами. Сделать тестовую выборку размером 10% от исходных данных.\n",
    "4. Проверить данные на тестовой выборке и сделать выводы.\n",
    "\n",
    "\n",
    "Данные лежат в файле `taxi.csv`. \n",
    "\n",
    "Количество заказов находится в столбце `num_orders` (от англ. *number of orders*, «число заказов»)."
   ]
  },
  {
   "cell_type": "code",
   "execution_count": null,
   "metadata": {},
   "outputs": [],
   "source": [
    "#!pip install scikit-learn==1.4 -q"
   ]
  },
  {
   "cell_type": "code",
   "execution_count": 2,
   "metadata": {},
   "outputs": [],
   "source": [
    "import pandas as pd\n",
    "import matplotlib.pyplot as plt\n",
    "%matplotlib inline\n",
    "import seaborn as sns\n",
    "import numpy as np\n",
    "from statsmodels.tsa.seasonal import seasonal_decompose\n",
    "from sklearn.model_selection import train_test_split, TimeSeriesSplit, GridSearchCV, cross_val_score\n",
    "from sklearn.preprocessing import OneHotEncoder, StandardScaler\n",
    "from sklearn.compose import ColumnTransformer\n",
    "from sklearn.pipeline import Pipeline\n",
    "from sklearn.linear_model import LinearRegression\n",
    "from sklearn.ensemble import RandomForestRegressor\n",
    "from sklearn.metrics import root_mean_squared_error\n",
    "from catboost import CatBoostRegressor\n",
    "\n",
    "RANDOM_STATE = 42"
   ]
  },
  {
   "cell_type": "markdown",
   "metadata": {},
   "source": [
    "## Подготовка"
   ]
  },
  {
   "cell_type": "code",
   "execution_count": 3,
   "metadata": {},
   "outputs": [
    {
     "data": {
      "text/html": [
       "<div>\n",
       "<style scoped>\n",
       "    .dataframe tbody tr th:only-of-type {\n",
       "        vertical-align: middle;\n",
       "    }\n",
       "\n",
       "    .dataframe tbody tr th {\n",
       "        vertical-align: top;\n",
       "    }\n",
       "\n",
       "    .dataframe thead th {\n",
       "        text-align: right;\n",
       "    }\n",
       "</style>\n",
       "<table border=\"1\" class=\"dataframe\">\n",
       "  <thead>\n",
       "    <tr style=\"text-align: right;\">\n",
       "      <th></th>\n",
       "      <th>num_orders</th>\n",
       "    </tr>\n",
       "    <tr>\n",
       "      <th>datetime</th>\n",
       "      <th></th>\n",
       "    </tr>\n",
       "  </thead>\n",
       "  <tbody>\n",
       "    <tr>\n",
       "      <th>2018-03-01 00:00:00</th>\n",
       "      <td>9</td>\n",
       "    </tr>\n",
       "    <tr>\n",
       "      <th>2018-03-01 00:10:00</th>\n",
       "      <td>14</td>\n",
       "    </tr>\n",
       "    <tr>\n",
       "      <th>2018-03-01 00:20:00</th>\n",
       "      <td>28</td>\n",
       "    </tr>\n",
       "    <tr>\n",
       "      <th>2018-03-01 00:30:00</th>\n",
       "      <td>20</td>\n",
       "    </tr>\n",
       "    <tr>\n",
       "      <th>2018-03-01 00:40:00</th>\n",
       "      <td>32</td>\n",
       "    </tr>\n",
       "  </tbody>\n",
       "</table>\n",
       "</div>"
      ],
      "text/plain": [
       "                     num_orders\n",
       "datetime                       \n",
       "2018-03-01 00:00:00           9\n",
       "2018-03-01 00:10:00          14\n",
       "2018-03-01 00:20:00          28\n",
       "2018-03-01 00:30:00          20\n",
       "2018-03-01 00:40:00          32"
      ]
     },
     "execution_count": 3,
     "metadata": {},
     "output_type": "execute_result"
    }
   ],
   "source": [
    "df = pd.read_csv('/datasets/taxi.csv', index_col=[0], parse_dates=[0])\n",
    "df.head()"
   ]
  },
  {
   "cell_type": "code",
   "execution_count": 4,
   "metadata": {},
   "outputs": [
    {
     "data": {
      "text/plain": [
       "(26496, 1)"
      ]
     },
     "execution_count": 4,
     "metadata": {},
     "output_type": "execute_result"
    }
   ],
   "source": [
    "df.shape"
   ]
  },
  {
   "cell_type": "code",
   "execution_count": 5,
   "metadata": {},
   "outputs": [
    {
     "name": "stdout",
     "output_type": "stream",
     "text": [
      "<class 'pandas.core.frame.DataFrame'>\n",
      "DatetimeIndex: 26496 entries, 2018-03-01 00:00:00 to 2018-08-31 23:50:00\n",
      "Data columns (total 1 columns):\n",
      " #   Column      Non-Null Count  Dtype\n",
      "---  ------      --------------  -----\n",
      " 0   num_orders  26496 non-null  int64\n",
      "dtypes: int64(1)\n",
      "memory usage: 414.0 KB\n"
     ]
    }
   ],
   "source": [
    "df.info()"
   ]
  },
  {
   "cell_type": "code",
   "execution_count": 6,
   "metadata": {},
   "outputs": [
    {
     "data": {
      "text/html": [
       "<div>\n",
       "<style scoped>\n",
       "    .dataframe tbody tr th:only-of-type {\n",
       "        vertical-align: middle;\n",
       "    }\n",
       "\n",
       "    .dataframe tbody tr th {\n",
       "        vertical-align: top;\n",
       "    }\n",
       "\n",
       "    .dataframe thead th {\n",
       "        text-align: right;\n",
       "    }\n",
       "</style>\n",
       "<table border=\"1\" class=\"dataframe\">\n",
       "  <thead>\n",
       "    <tr style=\"text-align: right;\">\n",
       "      <th></th>\n",
       "      <th>num_orders</th>\n",
       "    </tr>\n",
       "  </thead>\n",
       "  <tbody>\n",
       "    <tr>\n",
       "      <th>count</th>\n",
       "      <td>26496.000000</td>\n",
       "    </tr>\n",
       "    <tr>\n",
       "      <th>mean</th>\n",
       "      <td>14.070463</td>\n",
       "    </tr>\n",
       "    <tr>\n",
       "      <th>std</th>\n",
       "      <td>9.211330</td>\n",
       "    </tr>\n",
       "    <tr>\n",
       "      <th>min</th>\n",
       "      <td>0.000000</td>\n",
       "    </tr>\n",
       "    <tr>\n",
       "      <th>25%</th>\n",
       "      <td>8.000000</td>\n",
       "    </tr>\n",
       "    <tr>\n",
       "      <th>50%</th>\n",
       "      <td>13.000000</td>\n",
       "    </tr>\n",
       "    <tr>\n",
       "      <th>75%</th>\n",
       "      <td>19.000000</td>\n",
       "    </tr>\n",
       "    <tr>\n",
       "      <th>max</th>\n",
       "      <td>119.000000</td>\n",
       "    </tr>\n",
       "  </tbody>\n",
       "</table>\n",
       "</div>"
      ],
      "text/plain": [
       "         num_orders\n",
       "count  26496.000000\n",
       "mean      14.070463\n",
       "std        9.211330\n",
       "min        0.000000\n",
       "25%        8.000000\n",
       "50%       13.000000\n",
       "75%       19.000000\n",
       "max      119.000000"
      ]
     },
     "execution_count": 6,
     "metadata": {},
     "output_type": "execute_result"
    }
   ],
   "source": [
    "df.describe()"
   ]
  },
  {
   "cell_type": "code",
   "execution_count": 7,
   "metadata": {},
   "outputs": [
    {
     "data": {
      "text/plain": [
       "num_orders    0\n",
       "dtype: int64"
      ]
     },
     "execution_count": 7,
     "metadata": {},
     "output_type": "execute_result"
    }
   ],
   "source": [
    "df.isna().sum()"
   ]
  },
  {
   "cell_type": "markdown",
   "metadata": {},
   "source": [
    "**Вывод:** в датасете *df* 26496 записей и 1 признак. Столбец `datetime` уже преобразован в тип datetime64 и переведен в индекс, у столбца `num_orders` тип int64. Пропусков в данных нет."
   ]
  },
  {
   "cell_type": "markdown",
   "metadata": {},
   "source": [
    "## Анализ"
   ]
  },
  {
   "cell_type": "markdown",
   "metadata": {},
   "source": [
    "Отсортируем индекс и ресемплируем наши данные по одному часу."
   ]
  },
  {
   "cell_type": "code",
   "execution_count": 8,
   "metadata": {},
   "outputs": [
    {
     "data": {
      "text/html": [
       "<div>\n",
       "<style scoped>\n",
       "    .dataframe tbody tr th:only-of-type {\n",
       "        vertical-align: middle;\n",
       "    }\n",
       "\n",
       "    .dataframe tbody tr th {\n",
       "        vertical-align: top;\n",
       "    }\n",
       "\n",
       "    .dataframe thead th {\n",
       "        text-align: right;\n",
       "    }\n",
       "</style>\n",
       "<table border=\"1\" class=\"dataframe\">\n",
       "  <thead>\n",
       "    <tr style=\"text-align: right;\">\n",
       "      <th></th>\n",
       "      <th>num_orders</th>\n",
       "    </tr>\n",
       "    <tr>\n",
       "      <th>datetime</th>\n",
       "      <th></th>\n",
       "    </tr>\n",
       "  </thead>\n",
       "  <tbody>\n",
       "    <tr>\n",
       "      <th>2018-03-01 00:00:00</th>\n",
       "      <td>124</td>\n",
       "    </tr>\n",
       "    <tr>\n",
       "      <th>2018-03-01 01:00:00</th>\n",
       "      <td>85</td>\n",
       "    </tr>\n",
       "    <tr>\n",
       "      <th>2018-03-01 02:00:00</th>\n",
       "      <td>71</td>\n",
       "    </tr>\n",
       "    <tr>\n",
       "      <th>2018-03-01 03:00:00</th>\n",
       "      <td>66</td>\n",
       "    </tr>\n",
       "    <tr>\n",
       "      <th>2018-03-01 04:00:00</th>\n",
       "      <td>43</td>\n",
       "    </tr>\n",
       "  </tbody>\n",
       "</table>\n",
       "</div>"
      ],
      "text/plain": [
       "                     num_orders\n",
       "datetime                       \n",
       "2018-03-01 00:00:00         124\n",
       "2018-03-01 01:00:00          85\n",
       "2018-03-01 02:00:00          71\n",
       "2018-03-01 03:00:00          66\n",
       "2018-03-01 04:00:00          43"
      ]
     },
     "execution_count": 8,
     "metadata": {},
     "output_type": "execute_result"
    }
   ],
   "source": [
    "df.sort_index(inplace=True)\n",
    "df = df.resample('1H').sum()\n",
    "df.head()"
   ]
  },
  {
   "cell_type": "code",
   "execution_count": 9,
   "metadata": {},
   "outputs": [],
   "source": [
    "df['rolling_mean'] = df.rolling(24).mean()"
   ]
  },
  {
   "cell_type": "markdown",
   "metadata": {},
   "source": [
    "Построим график c заказами такси в аэропорт с марта по сентябрь 2018 года."
   ]
  },
  {
   "cell_type": "code",
   "execution_count": 10,
   "metadata": {},
   "outputs": [
    {
     "data": {
      "image/png": "[encoded data removed]",
      "text/plain": [
       "<Figure size 1080x360 with 1 Axes>"
      ]
     },
     "metadata": {},
     "output_type": "display_data"
    }
   ],
   "source": [
    "sns.set_style('whitegrid')\n",
    "plt.figure(figsize=(15, 5))\n",
    "sns.lineplot(data=df[['num_orders', 'rolling_mean']], palette=['c', 'b'], dashes=False)\n",
    "plt.title('Количество заказов такси в аэропортах в разное время')\n",
    "plt.ylabel('Количество заказов такси в аэропортах')\n",
    "plt.show()"
   ]
  },
  {
   "cell_type": "markdown",
   "metadata": {},
   "source": [
    "Данные имеют большие колебания, но с помощью средней скользящей мы видим восхдящий тренд. Проведем детальный анализ временных рядов."
   ]
  },
  {
   "cell_type": "code",
   "execution_count": 11,
   "metadata": {},
   "outputs": [
    {
     "data": {
      "image/png": "[encoded data removed]",
      "text/plain": [
       "<Figure size 864x1296 with 3 Axes>"
      ]
     },
     "metadata": {},
     "output_type": "display_data"
    }
   ],
   "source": [
    "decomposed = seasonal_decompose(df['num_orders'])\n",
    "\n",
    "fig, axes = plt.subplots(3, 1, figsize=(12, 18))\n",
    "sns.lineplot(data=decomposed.trend, ax=axes[0], color='red')\n",
    "axes[0].set_title('Trend')\n",
    "sns.lineplot(data=decomposed.seasonal['01-03-2018':'14-03-2018'], ax=axes[1], color='green')\n",
    "axes[1].set_title('Seasonal')\n",
    "sns.lineplot(data=decomposed.resid, ax=axes[2], color='purple')\n",
    "axes[2].set_title('Residuals')\n",
    "plt.tight_layout();"
   ]
  },
  {
   "cell_type": "markdown",
   "metadata": {},
   "source": [
    "Теперь хорошо видна суточная сезонность. Ночью количество заказов минимально, в то время как вечерний час пик - момент самого сильного спроса на услуги такси."
   ]
  },
  {
   "cell_type": "code",
   "execution_count": 12,
   "metadata": {},
   "outputs": [
    {
     "data": {
      "image/png": "[encoded data removed]",
      "text/plain": [
       "<Figure size 1296x432 with 1 Axes>"
      ]
     },
     "metadata": {},
     "output_type": "display_data"
    }
   ],
   "source": [
    "df_plot = df.copy()\n",
    "plt.figure(figsize=(18, 6))\n",
    "df_plot['rolling_mean'] = df_plot.rolling(30).mean()\n",
    "df_plot['std'] = df_plot['num_orders'].rolling(30).std()\n",
    "sns.lineplot(data=df_plot[['num_orders', 'rolling_mean', 'std']], palette=['c', 'r', 'm'], dashes=False)\n",
    "plt.title('График количества заказов')\n",
    "plt.ylabel('Количество заказов');"
   ]
  },
  {
   "cell_type": "code",
   "execution_count": 13,
   "metadata": {},
   "outputs": [
    {
     "data": {
      "image/png": "[encoded data removed]",
      "text/plain": [
       "<Figure size 1296x432 with 1 Axes>"
      ]
     },
     "metadata": {},
     "output_type": "display_data"
    }
   ],
   "source": [
    "df_shift = df - df.shift()\n",
    "plt.figure(figsize=(18, 6))\n",
    "df_shift['mean'] = df_shift['num_orders'].rolling(30).mean()\n",
    "df_shift['std'] = df_shift['num_orders'].rolling(30).std()\n",
    "sns.lineplot(data=df_shift[['num_orders', 'rolling_mean', 'std']], palette=['c', 'r', 'm'], dashes=False)\n",
    "plt.title('График количества заказов')\n",
    "plt.ylabel('Количество заказов');"
   ]
  },
  {
   "cell_type": "markdown",
   "metadata": {},
   "source": [
    "**Вывод:**\n",
    "1. За время наблюдений наметился определенный тренд на общее увеличение заказов такси в течение часа.\n",
    "2. На графиках явно видна суточная сезонность. Ночью количество заказов стремится к нулю, в то время как вечерний час пик - момент самого сильного спроса на услуги такси.\n"
   ]
  },
  {
   "cell_type": "markdown",
   "metadata": {},
   "source": [
    "## Обучение"
   ]
  },
  {
   "cell_type": "markdown",
   "metadata": {},
   "source": [
    "Обучим три модели ориентируясь на метрику RMSE. В качестве моделей используем Линейную регрессию, Случайный лес и CatBoostRegressor.\n",
    "\n",
    "Пропишем функцию для создания признаков, а именно день недели, час -\"отстающие значения\", скользящее среднее."
   ]
  },
  {
   "cell_type": "code",
   "execution_count": 14,
   "metadata": {},
   "outputs": [],
   "source": [
    "def make_features(data, max_lag, rolling_mean_size):\n",
    "    data['hour'] = data.index.hour\n",
    "    data['dayofweek'] = data.index.dayofweek\n",
    "    \n",
    "    for lag in range(1, max_lag + 1):\n",
    "        data[f'lag_{lag}'] = data['num_orders'].shift(lag)\n",
    "\n",
    "    data['rolling_mean'] = data['num_orders'].shift().rolling(rolling_mean_size).mean()\n",
    "    \n",
    "    data.dropna(inplace=True)"
   ]
  },
  {
   "cell_type": "markdown",
   "metadata": {},
   "source": [
    "Применим функцию с лагом до 24 часов и 100-м скользящим средним."
   ]
  },
  {
   "cell_type": "code",
   "execution_count": 15,
   "metadata": {},
   "outputs": [],
   "source": [
    "make_features(df, 24, 24)"
   ]
  },
  {
   "cell_type": "code",
   "execution_count": 16,
   "metadata": {
    "scrolled": false
   },
   "outputs": [
    {
     "data": {
      "text/html": [
       "<div>\n",
       "<style scoped>\n",
       "    .dataframe tbody tr th:only-of-type {\n",
       "        vertical-align: middle;\n",
       "    }\n",
       "\n",
       "    .dataframe tbody tr th {\n",
       "        vertical-align: top;\n",
       "    }\n",
       "\n",
       "    .dataframe thead th {\n",
       "        text-align: right;\n",
       "    }\n",
       "</style>\n",
       "<table border=\"1\" class=\"dataframe\">\n",
       "  <thead>\n",
       "    <tr style=\"text-align: right;\">\n",
       "      <th></th>\n",
       "      <th>num_orders</th>\n",
       "      <th>rolling_mean</th>\n",
       "      <th>hour</th>\n",
       "      <th>dayofweek</th>\n",
       "      <th>lag_1</th>\n",
       "      <th>lag_2</th>\n",
       "      <th>lag_3</th>\n",
       "      <th>lag_4</th>\n",
       "      <th>lag_5</th>\n",
       "      <th>lag_6</th>\n",
       "      <th>...</th>\n",
       "      <th>lag_15</th>\n",
       "      <th>lag_16</th>\n",
       "      <th>lag_17</th>\n",
       "      <th>lag_18</th>\n",
       "      <th>lag_19</th>\n",
       "      <th>lag_20</th>\n",
       "      <th>lag_21</th>\n",
       "      <th>lag_22</th>\n",
       "      <th>lag_23</th>\n",
       "      <th>lag_24</th>\n",
       "    </tr>\n",
       "    <tr>\n",
       "      <th>datetime</th>\n",
       "      <th></th>\n",
       "      <th></th>\n",
       "      <th></th>\n",
       "      <th></th>\n",
       "      <th></th>\n",
       "      <th></th>\n",
       "      <th></th>\n",
       "      <th></th>\n",
       "      <th></th>\n",
       "      <th></th>\n",
       "      <th></th>\n",
       "      <th></th>\n",
       "      <th></th>\n",
       "      <th></th>\n",
       "      <th></th>\n",
       "      <th></th>\n",
       "      <th></th>\n",
       "      <th></th>\n",
       "      <th></th>\n",
       "      <th></th>\n",
       "      <th></th>\n",
       "    </tr>\n",
       "  </thead>\n",
       "  <tbody>\n",
       "    <tr>\n",
       "      <th>2018-03-02 00:00:00</th>\n",
       "      <td>90</td>\n",
       "      <td>56.833333</td>\n",
       "      <td>0</td>\n",
       "      <td>4</td>\n",
       "      <td>58.0</td>\n",
       "      <td>113.0</td>\n",
       "      <td>66.0</td>\n",
       "      <td>61.0</td>\n",
       "      <td>45.0</td>\n",
       "      <td>73.0</td>\n",
       "      <td>...</td>\n",
       "      <td>69.0</td>\n",
       "      <td>34.0</td>\n",
       "      <td>15.0</td>\n",
       "      <td>12.0</td>\n",
       "      <td>6.0</td>\n",
       "      <td>43.0</td>\n",
       "      <td>66.0</td>\n",
       "      <td>71.0</td>\n",
       "      <td>85.0</td>\n",
       "      <td>124.0</td>\n",
       "    </tr>\n",
       "    <tr>\n",
       "      <th>2018-03-02 01:00:00</th>\n",
       "      <td>120</td>\n",
       "      <td>55.416667</td>\n",
       "      <td>1</td>\n",
       "      <td>4</td>\n",
       "      <td>90.0</td>\n",
       "      <td>58.0</td>\n",
       "      <td>113.0</td>\n",
       "      <td>66.0</td>\n",
       "      <td>61.0</td>\n",
       "      <td>45.0</td>\n",
       "      <td>...</td>\n",
       "      <td>64.0</td>\n",
       "      <td>69.0</td>\n",
       "      <td>34.0</td>\n",
       "      <td>15.0</td>\n",
       "      <td>12.0</td>\n",
       "      <td>6.0</td>\n",
       "      <td>43.0</td>\n",
       "      <td>66.0</td>\n",
       "      <td>71.0</td>\n",
       "      <td>85.0</td>\n",
       "    </tr>\n",
       "    <tr>\n",
       "      <th>2018-03-02 02:00:00</th>\n",
       "      <td>75</td>\n",
       "      <td>56.875000</td>\n",
       "      <td>2</td>\n",
       "      <td>4</td>\n",
       "      <td>120.0</td>\n",
       "      <td>90.0</td>\n",
       "      <td>58.0</td>\n",
       "      <td>113.0</td>\n",
       "      <td>66.0</td>\n",
       "      <td>61.0</td>\n",
       "      <td>...</td>\n",
       "      <td>96.0</td>\n",
       "      <td>64.0</td>\n",
       "      <td>69.0</td>\n",
       "      <td>34.0</td>\n",
       "      <td>15.0</td>\n",
       "      <td>12.0</td>\n",
       "      <td>6.0</td>\n",
       "      <td>43.0</td>\n",
       "      <td>66.0</td>\n",
       "      <td>71.0</td>\n",
       "    </tr>\n",
       "    <tr>\n",
       "      <th>2018-03-02 03:00:00</th>\n",
       "      <td>64</td>\n",
       "      <td>57.041667</td>\n",
       "      <td>3</td>\n",
       "      <td>4</td>\n",
       "      <td>75.0</td>\n",
       "      <td>120.0</td>\n",
       "      <td>90.0</td>\n",
       "      <td>58.0</td>\n",
       "      <td>113.0</td>\n",
       "      <td>66.0</td>\n",
       "      <td>...</td>\n",
       "      <td>30.0</td>\n",
       "      <td>96.0</td>\n",
       "      <td>64.0</td>\n",
       "      <td>69.0</td>\n",
       "      <td>34.0</td>\n",
       "      <td>15.0</td>\n",
       "      <td>12.0</td>\n",
       "      <td>6.0</td>\n",
       "      <td>43.0</td>\n",
       "      <td>66.0</td>\n",
       "    </tr>\n",
       "    <tr>\n",
       "      <th>2018-03-02 04:00:00</th>\n",
       "      <td>20</td>\n",
       "      <td>56.958333</td>\n",
       "      <td>4</td>\n",
       "      <td>4</td>\n",
       "      <td>64.0</td>\n",
       "      <td>75.0</td>\n",
       "      <td>120.0</td>\n",
       "      <td>90.0</td>\n",
       "      <td>58.0</td>\n",
       "      <td>113.0</td>\n",
       "      <td>...</td>\n",
       "      <td>32.0</td>\n",
       "      <td>30.0</td>\n",
       "      <td>96.0</td>\n",
       "      <td>64.0</td>\n",
       "      <td>69.0</td>\n",
       "      <td>34.0</td>\n",
       "      <td>15.0</td>\n",
       "      <td>12.0</td>\n",
       "      <td>6.0</td>\n",
       "      <td>43.0</td>\n",
       "    </tr>\n",
       "  </tbody>\n",
       "</table>\n",
       "<p>5 rows × 28 columns</p>\n",
       "</div>"
      ],
      "text/plain": [
       "                     num_orders  rolling_mean  hour  dayofweek  lag_1  lag_2  \\\n",
       "datetime                                                                       \n",
       "2018-03-02 00:00:00          90     56.833333     0          4   58.0  113.0   \n",
       "2018-03-02 01:00:00         120     55.416667     1          4   90.0   58.0   \n",
       "2018-03-02 02:00:00          75     56.875000     2          4  120.0   90.0   \n",
       "2018-03-02 03:00:00          64     57.041667     3          4   75.0  120.0   \n",
       "2018-03-02 04:00:00          20     56.958333     4          4   64.0   75.0   \n",
       "\n",
       "                     lag_3  lag_4  lag_5  lag_6  ...  lag_15  lag_16  lag_17  \\\n",
       "datetime                                         ...                           \n",
       "2018-03-02 00:00:00   66.0   61.0   45.0   73.0  ...    69.0    34.0    15.0   \n",
       "2018-03-02 01:00:00  113.0   66.0   61.0   45.0  ...    64.0    69.0    34.0   \n",
       "2018-03-02 02:00:00   58.0  113.0   66.0   61.0  ...    96.0    64.0    69.0   \n",
       "2018-03-02 03:00:00   90.0   58.0  113.0   66.0  ...    30.0    96.0    64.0   \n",
       "2018-03-02 04:00:00  120.0   90.0   58.0  113.0  ...    32.0    30.0    96.0   \n",
       "\n",
       "                     lag_18  lag_19  lag_20  lag_21  lag_22  lag_23  lag_24  \n",
       "datetime                                                                     \n",
       "2018-03-02 00:00:00    12.0     6.0    43.0    66.0    71.0    85.0   124.0  \n",
       "2018-03-02 01:00:00    15.0    12.0     6.0    43.0    66.0    71.0    85.0  \n",
       "2018-03-02 02:00:00    34.0    15.0    12.0     6.0    43.0    66.0    71.0  \n",
       "2018-03-02 03:00:00    69.0    34.0    15.0    12.0     6.0    43.0    66.0  \n",
       "2018-03-02 04:00:00    64.0    69.0    34.0    15.0    12.0     6.0    43.0  \n",
       "\n",
       "[5 rows x 28 columns]"
      ]
     },
     "execution_count": 16,
     "metadata": {},
     "output_type": "execute_result"
    }
   ],
   "source": [
    "df.head()"
   ]
  },
  {
   "cell_type": "markdown",
   "metadata": {},
   "source": [
    "Поделим данные на тренировочную и тестовую выборки."
   ]
  },
  {
   "cell_type": "code",
   "execution_count": 17,
   "metadata": {},
   "outputs": [],
   "source": [
    "train, test = train_test_split(df, test_size=0.1, shuffle=False, random_state=RANDOM_STATE)\n",
    "\n",
    "features_train = train.drop(['num_orders'], axis=1)\n",
    "target_train = train['num_orders']\n",
    "features_test = test.drop(['num_orders'], axis=1)\n",
    "target_test = test['num_orders']"
   ]
  },
  {
   "cell_type": "code",
   "execution_count": 18,
   "metadata": {},
   "outputs": [
    {
     "name": "stdout",
     "output_type": "stream",
     "text": [
      "(3952, 27)\n",
      "(440, 27)\n",
      "(3952,)\n",
      "(440,)\n"
     ]
    }
   ],
   "source": [
    "print(features_train.shape)\n",
    "print(features_test.shape)\n",
    "print(target_train.shape)\n",
    "print(target_test.shape)"
   ]
  },
  {
   "cell_type": "markdown",
   "metadata": {},
   "source": [
    "**Линейная регрессия**"
   ]
  },
  {
   "cell_type": "markdown",
   "metadata": {},
   "source": [
    "В связи с тем, что мы работаем с временным рядом, нельзя применять кросс-валидацию в привычном виде для подбора гиперпараметров моделей с помощью GridSearchCV. Поэтому применим функцию TimeSeriesSplit()."
   ]
  },
  {
   "cell_type": "code",
   "execution_count": 19,
   "metadata": {},
   "outputs": [],
   "source": [
    "ohe_columns = ['hour',\n",
    "              'dayofweek']\n",
    "\n",
    "num_columns = df.drop(['hour',\n",
    "              'dayofweek',\n",
    "              'num_orders'], axis=1).columns"
   ]
  },
  {
   "cell_type": "code",
   "execution_count": 20,
   "metadata": {},
   "outputs": [],
   "source": [
    "data_preprocessor = ColumnTransformer(\n",
    "    [('ohe', OneHotEncoder(drop='first', handle_unknown='ignore', sparse_output=False), ohe_columns),\n",
    "     ('num', StandardScaler(), num_columns)\n",
    "    ], \n",
    "    remainder='passthrough'\n",
    ")"
   ]
  },
  {
   "cell_type": "code",
   "execution_count": 21,
   "metadata": {},
   "outputs": [],
   "source": [
    "pipe_final = Pipeline([\n",
    "    ('preprocessor', data_preprocessor),\n",
    "    ('models', LinearRegression())\n",
    "])"
   ]
  },
  {
   "cell_type": "code",
   "execution_count": 22,
   "metadata": {},
   "outputs": [
    {
     "name": "stdout",
     "output_type": "stream",
     "text": [
      "RMSE линейной регрессии при кросс-валидации: 26.235\n"
     ]
    }
   ],
   "source": [
    "cv = TimeSeriesSplit(n_splits=3)\n",
    "\n",
    "regression_cv_score = pd.Series(cross_val_score(\n",
    "    pipe_final,\n",
    "    features_train,\n",
    "    target_train,\n",
    "    scoring='neg_root_mean_squared_error',\n",
    "    cv=cv)).mean()*(-1)\n",
    "\n",
    "print(f'RMSE линейной регрессии при кросс-валидации: {regression_cv_score:.3f}')"
   ]
  },
  {
   "cell_type": "markdown",
   "metadata": {},
   "source": [
    "**Случайный лес**"
   ]
  },
  {
   "cell_type": "code",
   "execution_count": 23,
   "metadata": {},
   "outputs": [
    {
     "name": "stdout",
     "output_type": "stream",
     "text": [
      "CPU times: user 2min 29s, sys: 258 ms, total: 2min 29s\n",
      "Wall time: 2min 30s\n"
     ]
    },
    {
     "data": {
      "text/html": [
       "<style>#sk-container-id-1 {\n",
       "  /* Definition of color scheme common for light and dark mode */\n",
       "  --sklearn-color-text: black;\n",
       "  --sklearn-color-line: gray;\n",
       "  /* Definition of color scheme for unfitted estimators */\n",
       "  --sklearn-color-unfitted-level-0: #fff5e6;\n",
       "  --sklearn-color-unfitted-level-1: #f6e4d2;\n",
       "  --sklearn-color-unfitted-level-2: #ffe0b3;\n",
       "  --sklearn-color-unfitted-level-3: chocolate;\n",
       "  /* Definition of color scheme for fitted estimators */\n",
       "  --sklearn-color-fitted-level-0: #f0f8ff;\n",
       "  --sklearn-color-fitted-level-1: #d4ebff;\n",
       "  --sklearn-color-fitted-level-2: #b3dbfd;\n",
       "  --sklearn-color-fitted-level-3: cornflowerblue;\n",
       "\n",
       "  /* Specific color for light theme */\n",
       "  --sklearn-color-text-on-default-background: var(--sg-text-color, var(--theme-code-foreground, var(--jp-content-font-color1, black)));\n",
       "  --sklearn-color-background: var(--sg-background-color, var(--theme-background, var(--jp-layout-color0, white)));\n",
       "  --sklearn-color-border-box: var(--sg-text-color, var(--theme-code-foreground, var(--jp-content-font-color1, black)));\n",
       "  --sklearn-color-icon: #696969;\n",
       "\n",
       "  @media (prefers-color-scheme: dark) {\n",
       "    /* Redefinition of color scheme for dark theme */\n",
       "    --sklearn-color-text-on-default-background: var(--sg-text-color, var(--theme-code-foreground, var(--jp-content-font-color1, white)));\n",
       "    --sklearn-color-background: var(--sg-background-color, var(--theme-background, var(--jp-layout-color0, #111)));\n",
       "    --sklearn-color-border-box: var(--sg-text-color, var(--theme-code-foreground, var(--jp-content-font-color1, white)));\n",
       "    --sklearn-color-icon: #878787;\n",
       "  }\n",
       "}\n",
       "\n",
       "#sk-container-id-1 {\n",
       "  color: var(--sklearn-color-text);\n",
       "}\n",
       "\n",
       "#sk-container-id-1 pre {\n",
       "  padding: 0;\n",
       "}\n",
       "\n",
       "#sk-container-id-1 input.sk-hidden--visually {\n",
       "  border: 0;\n",
       "  clip: rect(1px 1px 1px 1px);\n",
       "  clip: rect(1px, 1px, 1px, 1px);\n",
       "  height: 1px;\n",
       "  margin: -1px;\n",
       "  overflow: hidden;\n",
       "  padding: 0;\n",
       "  position: absolute;\n",
       "  width: 1px;\n",
       "}\n",
       "\n",
       "#sk-container-id-1 div.sk-dashed-wrapped {\n",
       "  border: 1px dashed var(--sklearn-color-line);\n",
       "  margin: 0 0.4em 0.5em 0.4em;\n",
       "  box-sizing: border-box;\n",
       "  padding-bottom: 0.4em;\n",
       "  background-color: var(--sklearn-color-background);\n",
       "}\n",
       "\n",
       "#sk-container-id-1 div.sk-container {\n",
       "  /* jupyter's `normalize.less` sets `[hidden] { display: none; }`\n",
       "     but bootstrap.min.css set `[hidden] { display: none !important; }`\n",
       "     so we also need the `!important` here to be able to override the\n",
       "     default hidden behavior on the sphinx rendered scikit-learn.org.\n",
       "     See: https://github.com/scikit-learn/scikit-learn/issues/21755 */\n",
       "  display: inline-block !important;\n",
       "  position: relative;\n",
       "}\n",
       "\n",
       "#sk-container-id-1 div.sk-text-repr-fallback {\n",
       "  display: none;\n",
       "}\n",
       "\n",
       "div.sk-parallel-item,\n",
       "div.sk-serial,\n",
       "div.sk-item {\n",
       "  /* draw centered vertical line to link estimators */\n",
       "  background-image: linear-gradient(var(--sklearn-color-text-on-default-background), var(--sklearn-color-text-on-default-background));\n",
       "  background-size: 2px 100%;\n",
       "  background-repeat: no-repeat;\n",
       "  background-position: center center;\n",
       "}\n",
       "\n",
       "/* Parallel-specific style estimator block */\n",
       "\n",
       "#sk-container-id-1 div.sk-parallel-item::after {\n",
       "  content: \"\";\n",
       "  width: 100%;\n",
       "  border-bottom: 2px solid var(--sklearn-color-text-on-default-background);\n",
       "  flex-grow: 1;\n",
       "}\n",
       "\n",
       "#sk-container-id-1 div.sk-parallel {\n",
       "  display: flex;\n",
       "  align-items: stretch;\n",
       "  justify-content: center;\n",
       "  background-color: var(--sklearn-color-background);\n",
       "  position: relative;\n",
       "}\n",
       "\n",
       "#sk-container-id-1 div.sk-parallel-item {\n",
       "  display: flex;\n",
       "  flex-direction: column;\n",
       "}\n",
       "\n",
       "#sk-container-id-1 div.sk-parallel-item:first-child::after {\n",
       "  align-self: flex-end;\n",
       "  width: 50%;\n",
       "}\n",
       "\n",
       "#sk-container-id-1 div.sk-parallel-item:last-child::after {\n",
       "  align-self: flex-start;\n",
       "  width: 50%;\n",
       "}\n",
       "\n",
       "#sk-container-id-1 div.sk-parallel-item:only-child::after {\n",
       "  width: 0;\n",
       "}\n",
       "\n",
       "/* Serial-specific style estimator block */\n",
       "\n",
       "#sk-container-id-1 div.sk-serial {\n",
       "  display: flex;\n",
       "  flex-direction: column;\n",
       "  align-items: center;\n",
       "  background-color: var(--sklearn-color-background);\n",
       "  padding-right: 1em;\n",
       "  padding-left: 1em;\n",
       "}\n",
       "\n",
       "\n",
       "/* Toggleable style: style used for estimator/Pipeline/ColumnTransformer box that is\n",
       "clickable and can be expanded/collapsed.\n",
       "- Pipeline and ColumnTransformer use this feature and define the default style\n",
       "- Estimators will overwrite some part of the style using the `sk-estimator` class\n",
       "*/\n",
       "\n",
       "/* Pipeline and ColumnTransformer style (default) */\n",
       "\n",
       "#sk-container-id-1 div.sk-toggleable {\n",
       "  /* Default theme specific background. It is overwritten whether we have a\n",
       "  specific estimator or a Pipeline/ColumnTransformer */\n",
       "  background-color: var(--sklearn-color-background);\n",
       "}\n",
       "\n",
       "/* Toggleable label */\n",
       "#sk-container-id-1 label.sk-toggleable__label {\n",
       "  cursor: pointer;\n",
       "  display: block;\n",
       "  width: 100%;\n",
       "  margin-bottom: 0;\n",
       "  padding: 0.5em;\n",
       "  box-sizing: border-box;\n",
       "  text-align: center;\n",
       "}\n",
       "\n",
       "#sk-container-id-1 label.sk-toggleable__label-arrow:before {\n",
       "  /* Arrow on the left of the label */\n",
       "  content: \"▸\";\n",
       "  float: left;\n",
       "  margin-right: 0.25em;\n",
       "  color: var(--sklearn-color-icon);\n",
       "}\n",
       "\n",
       "#sk-container-id-1 label.sk-toggleable__label-arrow:hover:before {\n",
       "  color: var(--sklearn-color-text);\n",
       "}\n",
       "\n",
       "/* Toggleable content - dropdown */\n",
       "\n",
       "#sk-container-id-1 div.sk-toggleable__content {\n",
       "  max-height: 0;\n",
       "  max-width: 0;\n",
       "  overflow: hidden;\n",
       "  text-align: left;\n",
       "  /* unfitted */\n",
       "  background-color: var(--sklearn-color-unfitted-level-0);\n",
       "}\n",
       "\n",
       "#sk-container-id-1 div.sk-toggleable__content.fitted {\n",
       "  /* fitted */\n",
       "  background-color: var(--sklearn-color-fitted-level-0);\n",
       "}\n",
       "\n",
       "#sk-container-id-1 div.sk-toggleable__content pre {\n",
       "  margin: 0.2em;\n",
       "  border-radius: 0.25em;\n",
       "  color: var(--sklearn-color-text);\n",
       "  /* unfitted */\n",
       "  background-color: var(--sklearn-color-unfitted-level-0);\n",
       "}\n",
       "\n",
       "#sk-container-id-1 div.sk-toggleable__content.fitted pre {\n",
       "  /* unfitted */\n",
       "  background-color: var(--sklearn-color-fitted-level-0);\n",
       "}\n",
       "\n",
       "#sk-container-id-1 input.sk-toggleable__control:checked~div.sk-toggleable__content {\n",
       "  /* Expand drop-down */\n",
       "  max-height: 200px;\n",
       "  max-width: 100%;\n",
       "  overflow: auto;\n",
       "}\n",
       "\n",
       "#sk-container-id-1 input.sk-toggleable__control:checked~label.sk-toggleable__label-arrow:before {\n",
       "  content: \"▾\";\n",
       "}\n",
       "\n",
       "/* Pipeline/ColumnTransformer-specific style */\n",
       "\n",
       "#sk-container-id-1 div.sk-label input.sk-toggleable__control:checked~label.sk-toggleable__label {\n",
       "  color: var(--sklearn-color-text);\n",
       "  background-color: var(--sklearn-color-unfitted-level-2);\n",
       "}\n",
       "\n",
       "#sk-container-id-1 div.sk-label.fitted input.sk-toggleable__control:checked~label.sk-toggleable__label {\n",
       "  background-color: var(--sklearn-color-fitted-level-2);\n",
       "}\n",
       "\n",
       "/* Estimator-specific style */\n",
       "\n",
       "/* Colorize estimator box */\n",
       "#sk-container-id-1 div.sk-estimator input.sk-toggleable__control:checked~label.sk-toggleable__label {\n",
       "  /* unfitted */\n",
       "  background-color: var(--sklearn-color-unfitted-level-2);\n",
       "}\n",
       "\n",
       "#sk-container-id-1 div.sk-estimator.fitted input.sk-toggleable__control:checked~label.sk-toggleable__label {\n",
       "  /* fitted */\n",
       "  background-color: var(--sklearn-color-fitted-level-2);\n",
       "}\n",
       "\n",
       "#sk-container-id-1 div.sk-label label.sk-toggleable__label,\n",
       "#sk-container-id-1 div.sk-label label {\n",
       "  /* The background is the default theme color */\n",
       "  color: var(--sklearn-color-text-on-default-background);\n",
       "}\n",
       "\n",
       "/* On hover, darken the color of the background */\n",
       "#sk-container-id-1 div.sk-label:hover label.sk-toggleable__label {\n",
       "  color: var(--sklearn-color-text);\n",
       "  background-color: var(--sklearn-color-unfitted-level-2);\n",
       "}\n",
       "\n",
       "/* Label box, darken color on hover, fitted */\n",
       "#sk-container-id-1 div.sk-label.fitted:hover label.sk-toggleable__label.fitted {\n",
       "  color: var(--sklearn-color-text);\n",
       "  background-color: var(--sklearn-color-fitted-level-2);\n",
       "}\n",
       "\n",
       "/* Estimator label */\n",
       "\n",
       "#sk-container-id-1 div.sk-label label {\n",
       "  font-family: monospace;\n",
       "  font-weight: bold;\n",
       "  display: inline-block;\n",
       "  line-height: 1.2em;\n",
       "}\n",
       "\n",
       "#sk-container-id-1 div.sk-label-container {\n",
       "  text-align: center;\n",
       "}\n",
       "\n",
       "/* Estimator-specific */\n",
       "#sk-container-id-1 div.sk-estimator {\n",
       "  font-family: monospace;\n",
       "  border: 1px dotted var(--sklearn-color-border-box);\n",
       "  border-radius: 0.25em;\n",
       "  box-sizing: border-box;\n",
       "  margin-bottom: 0.5em;\n",
       "  /* unfitted */\n",
       "  background-color: var(--sklearn-color-unfitted-level-0);\n",
       "}\n",
       "\n",
       "#sk-container-id-1 div.sk-estimator.fitted {\n",
       "  /* fitted */\n",
       "  background-color: var(--sklearn-color-fitted-level-0);\n",
       "}\n",
       "\n",
       "/* on hover */\n",
       "#sk-container-id-1 div.sk-estimator:hover {\n",
       "  /* unfitted */\n",
       "  background-color: var(--sklearn-color-unfitted-level-2);\n",
       "}\n",
       "\n",
       "#sk-container-id-1 div.sk-estimator.fitted:hover {\n",
       "  /* fitted */\n",
       "  background-color: var(--sklearn-color-fitted-level-2);\n",
       "}\n",
       "\n",
       "/* Specification for estimator info (e.g. \"i\" and \"?\") */\n",
       "\n",
       "/* Common style for \"i\" and \"?\" */\n",
       "\n",
       ".sk-estimator-doc-link,\n",
       "a:link.sk-estimator-doc-link,\n",
       "a:visited.sk-estimator-doc-link {\n",
       "  float: right;\n",
       "  font-size: smaller;\n",
       "  line-height: 1em;\n",
       "  font-family: monospace;\n",
       "  background-color: var(--sklearn-color-background);\n",
       "  border-radius: 1em;\n",
       "  height: 1em;\n",
       "  width: 1em;\n",
       "  text-decoration: none !important;\n",
       "  margin-left: 1ex;\n",
       "  /* unfitted */\n",
       "  border: var(--sklearn-color-unfitted-level-1) 1pt solid;\n",
       "  color: var(--sklearn-color-unfitted-level-1);\n",
       "}\n",
       "\n",
       ".sk-estimator-doc-link.fitted,\n",
       "a:link.sk-estimator-doc-link.fitted,\n",
       "a:visited.sk-estimator-doc-link.fitted {\n",
       "  /* fitted */\n",
       "  border: var(--sklearn-color-fitted-level-1) 1pt solid;\n",
       "  color: var(--sklearn-color-fitted-level-1);\n",
       "}\n",
       "\n",
       "/* On hover */\n",
       "div.sk-estimator:hover .sk-estimator-doc-link:hover,\n",
       ".sk-estimator-doc-link:hover,\n",
       "div.sk-label-container:hover .sk-estimator-doc-link:hover,\n",
       ".sk-estimator-doc-link:hover {\n",
       "  /* unfitted */\n",
       "  background-color: var(--sklearn-color-unfitted-level-3);\n",
       "  color: var(--sklearn-color-background);\n",
       "  text-decoration: none;\n",
       "}\n",
       "\n",
       "div.sk-estimator.fitted:hover .sk-estimator-doc-link.fitted:hover,\n",
       ".sk-estimator-doc-link.fitted:hover,\n",
       "div.sk-label-container:hover .sk-estimator-doc-link.fitted:hover,\n",
       ".sk-estimator-doc-link.fitted:hover {\n",
       "  /* fitted */\n",
       "  background-color: var(--sklearn-color-fitted-level-3);\n",
       "  color: var(--sklearn-color-background);\n",
       "  text-decoration: none;\n",
       "}\n",
       "\n",
       "/* Span, style for the box shown on hovering the info icon */\n",
       ".sk-estimator-doc-link span {\n",
       "  display: none;\n",
       "  z-index: 9999;\n",
       "  position: relative;\n",
       "  font-weight: normal;\n",
       "  right: .2ex;\n",
       "  padding: .5ex;\n",
       "  margin: .5ex;\n",
       "  width: min-content;\n",
       "  min-width: 20ex;\n",
       "  max-width: 50ex;\n",
       "  color: var(--sklearn-color-text);\n",
       "  box-shadow: 2pt 2pt 4pt #999;\n",
       "  /* unfitted */\n",
       "  background: var(--sklearn-color-unfitted-level-0);\n",
       "  border: .5pt solid var(--sklearn-color-unfitted-level-3);\n",
       "}\n",
       "\n",
       ".sk-estimator-doc-link.fitted span {\n",
       "  /* fitted */\n",
       "  background: var(--sklearn-color-fitted-level-0);\n",
       "  border: var(--sklearn-color-fitted-level-3);\n",
       "}\n",
       "\n",
       ".sk-estimator-doc-link:hover span {\n",
       "  display: block;\n",
       "}\n",
       "\n",
       "/* \"?\"-specific style due to the `<a>` HTML tag */\n",
       "\n",
       "#sk-container-id-1 a.estimator_doc_link {\n",
       "  float: right;\n",
       "  font-size: 1rem;\n",
       "  line-height: 1em;\n",
       "  font-family: monospace;\n",
       "  background-color: var(--sklearn-color-background);\n",
       "  border-radius: 1rem;\n",
       "  height: 1rem;\n",
       "  width: 1rem;\n",
       "  text-decoration: none;\n",
       "  /* unfitted */\n",
       "  color: var(--sklearn-color-unfitted-level-1);\n",
       "  border: var(--sklearn-color-unfitted-level-1) 1pt solid;\n",
       "}\n",
       "\n",
       "#sk-container-id-1 a.estimator_doc_link.fitted {\n",
       "  /* fitted */\n",
       "  border: var(--sklearn-color-fitted-level-1) 1pt solid;\n",
       "  color: var(--sklearn-color-fitted-level-1);\n",
       "}\n",
       "\n",
       "/* On hover */\n",
       "#sk-container-id-1 a.estimator_doc_link:hover {\n",
       "  /* unfitted */\n",
       "  background-color: var(--sklearn-color-unfitted-level-3);\n",
       "  color: var(--sklearn-color-background);\n",
       "  text-decoration: none;\n",
       "}\n",
       "\n",
       "#sk-container-id-1 a.estimator_doc_link.fitted:hover {\n",
       "  /* fitted */\n",
       "  background-color: var(--sklearn-color-fitted-level-3);\n",
       "}\n",
       "</style><div id=\"sk-container-id-1\" class=\"sk-top-container\"><div class=\"sk-text-repr-fallback\"><pre>GridSearchCV(cv=TimeSeriesSplit(gap=0, max_train_size=None, n_splits=3, test_size=None),\n",
       "             estimator=Pipeline(steps=[(&#x27;preprocessor&#x27;,\n",
       "                                        ColumnTransformer(remainder=&#x27;passthrough&#x27;,\n",
       "                                                          transformers=[(&#x27;ohe&#x27;,\n",
       "                                                                         OneHotEncoder(drop=&#x27;first&#x27;,\n",
       "                                                                                       handle_unknown=&#x27;ignore&#x27;,\n",
       "                                                                                       sparse_output=False),\n",
       "                                                                         [&#x27;hour&#x27;,\n",
       "                                                                          &#x27;dayofweek&#x27;]),\n",
       "                                                                        (&#x27;num&#x27;,\n",
       "                                                                         StandardScaler(),\n",
       "                                                                         Index([&#x27;rolling_mean&#x27;, &#x27;lag_1&#x27;, &#x27;lag_2&#x27;, &#x27;lag...\n",
       "       &#x27;lag_7&#x27;, &#x27;lag_8&#x27;, &#x27;lag_9&#x27;, &#x27;lag_10&#x27;, &#x27;lag_11&#x27;, &#x27;lag_12&#x27;, &#x27;lag_13&#x27;,\n",
       "       &#x27;lag_14&#x27;, &#x27;lag_15&#x27;, &#x27;lag_16&#x27;, &#x27;lag_17&#x27;, &#x27;lag_18&#x27;, &#x27;lag_19&#x27;, &#x27;lag_20&#x27;,\n",
       "       &#x27;lag_21&#x27;, &#x27;lag_22&#x27;, &#x27;lag_23&#x27;, &#x27;lag_24&#x27;],\n",
       "      dtype=&#x27;object&#x27;))])),\n",
       "                                       (&#x27;models&#x27;, LinearRegression())]),\n",
       "             n_jobs=-1,\n",
       "             param_grid={&#x27;models&#x27;: [RandomForestRegressor(random_state=42)],\n",
       "                         &#x27;models__max_depth&#x27;: range(10, 15),\n",
       "                         &#x27;models__min_samples_split&#x27;: [2, 5, 10]},\n",
       "             scoring=&#x27;neg_root_mean_squared_error&#x27;)</pre><b>In a Jupyter environment, please rerun this cell to show the HTML representation or trust the notebook. <br />On GitHub, the HTML representation is unable to render, please try loading this page with nbviewer.org.</b></div><div class=\"sk-container\" hidden><div class=\"sk-item sk-dashed-wrapped\"><div class=\"sk-label-container\"><div class=\"sk-label fitted sk-toggleable\"><input class=\"sk-toggleable__control sk-hidden--visually\" id=\"sk-estimator-id-1\" type=\"checkbox\" ><label for=\"sk-estimator-id-1\" class=\"sk-toggleable__label fitted sk-toggleable__label-arrow fitted\">&nbsp;&nbsp;GridSearchCV<a class=\"sk-estimator-doc-link fitted\" rel=\"noreferrer\" target=\"_blank\" href=\"https://scikit-learn.org/1.4/modules/generated/sklearn.model_selection.GridSearchCV.html\">?<span>Documentation for GridSearchCV</span></a><span class=\"sk-estimator-doc-link fitted\">i<span>Fitted</span></span></label><div class=\"sk-toggleable__content fitted\"><pre>GridSearchCV(cv=TimeSeriesSplit(gap=0, max_train_size=None, n_splits=3, test_size=None),\n",
       "             estimator=Pipeline(steps=[(&#x27;preprocessor&#x27;,\n",
       "                                        ColumnTransformer(remainder=&#x27;passthrough&#x27;,\n",
       "                                                          transformers=[(&#x27;ohe&#x27;,\n",
       "                                                                         OneHotEncoder(drop=&#x27;first&#x27;,\n",
       "                                                                                       handle_unknown=&#x27;ignore&#x27;,\n",
       "                                                                                       sparse_output=False),\n",
       "                                                                         [&#x27;hour&#x27;,\n",
       "                                                                          &#x27;dayofweek&#x27;]),\n",
       "                                                                        (&#x27;num&#x27;,\n",
       "                                                                         StandardScaler(),\n",
       "                                                                         Index([&#x27;rolling_mean&#x27;, &#x27;lag_1&#x27;, &#x27;lag_2&#x27;, &#x27;lag...\n",
       "       &#x27;lag_7&#x27;, &#x27;lag_8&#x27;, &#x27;lag_9&#x27;, &#x27;lag_10&#x27;, &#x27;lag_11&#x27;, &#x27;lag_12&#x27;, &#x27;lag_13&#x27;,\n",
       "       &#x27;lag_14&#x27;, &#x27;lag_15&#x27;, &#x27;lag_16&#x27;, &#x27;lag_17&#x27;, &#x27;lag_18&#x27;, &#x27;lag_19&#x27;, &#x27;lag_20&#x27;,\n",
       "       &#x27;lag_21&#x27;, &#x27;lag_22&#x27;, &#x27;lag_23&#x27;, &#x27;lag_24&#x27;],\n",
       "      dtype=&#x27;object&#x27;))])),\n",
       "                                       (&#x27;models&#x27;, LinearRegression())]),\n",
       "             n_jobs=-1,\n",
       "             param_grid={&#x27;models&#x27;: [RandomForestRegressor(random_state=42)],\n",
       "                         &#x27;models__max_depth&#x27;: range(10, 15),\n",
       "                         &#x27;models__min_samples_split&#x27;: [2, 5, 10]},\n",
       "             scoring=&#x27;neg_root_mean_squared_error&#x27;)</pre></div> </div></div><div class=\"sk-parallel\"><div class=\"sk-parallel-item\"><div class=\"sk-item\"><div class=\"sk-label-container\"><div class=\"sk-label fitted sk-toggleable\"><input class=\"sk-toggleable__control sk-hidden--visually\" id=\"sk-estimator-id-2\" type=\"checkbox\" ><label for=\"sk-estimator-id-2\" class=\"sk-toggleable__label fitted sk-toggleable__label-arrow fitted\">estimator: Pipeline</label><div class=\"sk-toggleable__content fitted\"><pre>Pipeline(steps=[(&#x27;preprocessor&#x27;,\n",
       "                 ColumnTransformer(remainder=&#x27;passthrough&#x27;,\n",
       "                                   transformers=[(&#x27;ohe&#x27;,\n",
       "                                                  OneHotEncoder(drop=&#x27;first&#x27;,\n",
       "                                                                handle_unknown=&#x27;ignore&#x27;,\n",
       "                                                                sparse_output=False),\n",
       "                                                  [&#x27;hour&#x27;, &#x27;dayofweek&#x27;]),\n",
       "                                                 (&#x27;num&#x27;, StandardScaler(),\n",
       "                                                  Index([&#x27;rolling_mean&#x27;, &#x27;lag_1&#x27;, &#x27;lag_2&#x27;, &#x27;lag_3&#x27;, &#x27;lag_4&#x27;, &#x27;lag_5&#x27;, &#x27;lag_6&#x27;,\n",
       "       &#x27;lag_7&#x27;, &#x27;lag_8&#x27;, &#x27;lag_9&#x27;, &#x27;lag_10&#x27;, &#x27;lag_11&#x27;, &#x27;lag_12&#x27;, &#x27;lag_13&#x27;,\n",
       "       &#x27;lag_14&#x27;, &#x27;lag_15&#x27;, &#x27;lag_16&#x27;, &#x27;lag_17&#x27;, &#x27;lag_18&#x27;, &#x27;lag_19&#x27;, &#x27;lag_20&#x27;,\n",
       "       &#x27;lag_21&#x27;, &#x27;lag_22&#x27;, &#x27;lag_23&#x27;, &#x27;lag_24&#x27;],\n",
       "      dtype=&#x27;object&#x27;))])),\n",
       "                (&#x27;models&#x27;, LinearRegression())])</pre></div> </div></div><div class=\"sk-serial\"><div class=\"sk-item\"><div class=\"sk-serial\"><div class=\"sk-item sk-dashed-wrapped\"><div class=\"sk-label-container\"><div class=\"sk-label fitted sk-toggleable\"><input class=\"sk-toggleable__control sk-hidden--visually\" id=\"sk-estimator-id-3\" type=\"checkbox\" ><label for=\"sk-estimator-id-3\" class=\"sk-toggleable__label fitted sk-toggleable__label-arrow fitted\">&nbsp;preprocessor: ColumnTransformer<a class=\"sk-estimator-doc-link fitted\" rel=\"noreferrer\" target=\"_blank\" href=\"https://scikit-learn.org/1.4/modules/generated/sklearn.compose.ColumnTransformer.html\">?<span>Documentation for preprocessor: ColumnTransformer</span></a></label><div class=\"sk-toggleable__content fitted\"><pre>ColumnTransformer(remainder=&#x27;passthrough&#x27;,\n",
       "                  transformers=[(&#x27;ohe&#x27;,\n",
       "                                 OneHotEncoder(drop=&#x27;first&#x27;,\n",
       "                                               handle_unknown=&#x27;ignore&#x27;,\n",
       "                                               sparse_output=False),\n",
       "                                 [&#x27;hour&#x27;, &#x27;dayofweek&#x27;]),\n",
       "                                (&#x27;num&#x27;, StandardScaler(),\n",
       "                                 Index([&#x27;rolling_mean&#x27;, &#x27;lag_1&#x27;, &#x27;lag_2&#x27;, &#x27;lag_3&#x27;, &#x27;lag_4&#x27;, &#x27;lag_5&#x27;, &#x27;lag_6&#x27;,\n",
       "       &#x27;lag_7&#x27;, &#x27;lag_8&#x27;, &#x27;lag_9&#x27;, &#x27;lag_10&#x27;, &#x27;lag_11&#x27;, &#x27;lag_12&#x27;, &#x27;lag_13&#x27;,\n",
       "       &#x27;lag_14&#x27;, &#x27;lag_15&#x27;, &#x27;lag_16&#x27;, &#x27;lag_17&#x27;, &#x27;lag_18&#x27;, &#x27;lag_19&#x27;, &#x27;lag_20&#x27;,\n",
       "       &#x27;lag_21&#x27;, &#x27;lag_22&#x27;, &#x27;lag_23&#x27;, &#x27;lag_24&#x27;],\n",
       "      dtype=&#x27;object&#x27;))])</pre></div> </div></div><div class=\"sk-parallel\"><div class=\"sk-parallel-item\"><div class=\"sk-item\"><div class=\"sk-label-container\"><div class=\"sk-label fitted sk-toggleable\"><input class=\"sk-toggleable__control sk-hidden--visually\" id=\"sk-estimator-id-4\" type=\"checkbox\" ><label for=\"sk-estimator-id-4\" class=\"sk-toggleable__label fitted sk-toggleable__label-arrow fitted\">ohe</label><div class=\"sk-toggleable__content fitted\"><pre>[&#x27;hour&#x27;, &#x27;dayofweek&#x27;]</pre></div> </div></div><div class=\"sk-serial\"><div class=\"sk-item\"><div class=\"sk-estimator fitted sk-toggleable\"><input class=\"sk-toggleable__control sk-hidden--visually\" id=\"sk-estimator-id-5\" type=\"checkbox\" ><label for=\"sk-estimator-id-5\" class=\"sk-toggleable__label fitted sk-toggleable__label-arrow fitted\">&nbsp;OneHotEncoder<a class=\"sk-estimator-doc-link fitted\" rel=\"noreferrer\" target=\"_blank\" href=\"https://scikit-learn.org/1.4/modules/generated/sklearn.preprocessing.OneHotEncoder.html\">?<span>Documentation for OneHotEncoder</span></a></label><div class=\"sk-toggleable__content fitted\"><pre>OneHotEncoder(drop=&#x27;first&#x27;, handle_unknown=&#x27;ignore&#x27;, sparse_output=False)</pre></div> </div></div></div></div></div><div class=\"sk-parallel-item\"><div class=\"sk-item\"><div class=\"sk-label-container\"><div class=\"sk-label fitted sk-toggleable\"><input class=\"sk-toggleable__control sk-hidden--visually\" id=\"sk-estimator-id-6\" type=\"checkbox\" ><label for=\"sk-estimator-id-6\" class=\"sk-toggleable__label fitted sk-toggleable__label-arrow fitted\">num</label><div class=\"sk-toggleable__content fitted\"><pre>Index([&#x27;rolling_mean&#x27;, &#x27;lag_1&#x27;, &#x27;lag_2&#x27;, &#x27;lag_3&#x27;, &#x27;lag_4&#x27;, &#x27;lag_5&#x27;, &#x27;lag_6&#x27;,\n",
       "       &#x27;lag_7&#x27;, &#x27;lag_8&#x27;, &#x27;lag_9&#x27;, &#x27;lag_10&#x27;, &#x27;lag_11&#x27;, &#x27;lag_12&#x27;, &#x27;lag_13&#x27;,\n",
       "       &#x27;lag_14&#x27;, &#x27;lag_15&#x27;, &#x27;lag_16&#x27;, &#x27;lag_17&#x27;, &#x27;lag_18&#x27;, &#x27;lag_19&#x27;, &#x27;lag_20&#x27;,\n",
       "       &#x27;lag_21&#x27;, &#x27;lag_22&#x27;, &#x27;lag_23&#x27;, &#x27;lag_24&#x27;],\n",
       "      dtype=&#x27;object&#x27;)</pre></div> </div></div><div class=\"sk-serial\"><div class=\"sk-item\"><div class=\"sk-estimator fitted sk-toggleable\"><input class=\"sk-toggleable__control sk-hidden--visually\" id=\"sk-estimator-id-7\" type=\"checkbox\" ><label for=\"sk-estimator-id-7\" class=\"sk-toggleable__label fitted sk-toggleable__label-arrow fitted\">&nbsp;StandardScaler<a class=\"sk-estimator-doc-link fitted\" rel=\"noreferrer\" target=\"_blank\" href=\"https://scikit-learn.org/1.4/modules/generated/sklearn.preprocessing.StandardScaler.html\">?<span>Documentation for StandardScaler</span></a></label><div class=\"sk-toggleable__content fitted\"><pre>StandardScaler()</pre></div> </div></div></div></div></div><div class=\"sk-parallel-item\"><div class=\"sk-item\"><div class=\"sk-label-container\"><div class=\"sk-label fitted sk-toggleable\"><input class=\"sk-toggleable__control sk-hidden--visually\" id=\"sk-estimator-id-8\" type=\"checkbox\" ><label for=\"sk-estimator-id-8\" class=\"sk-toggleable__label fitted sk-toggleable__label-arrow fitted\">remainder</label><div class=\"sk-toggleable__content fitted\"><pre></pre></div> </div></div><div class=\"sk-serial\"><div class=\"sk-item\"><div class=\"sk-estimator fitted sk-toggleable\"><input class=\"sk-toggleable__control sk-hidden--visually\" id=\"sk-estimator-id-9\" type=\"checkbox\" ><label for=\"sk-estimator-id-9\" class=\"sk-toggleable__label fitted sk-toggleable__label-arrow fitted\">passthrough</label><div class=\"sk-toggleable__content fitted\"><pre>passthrough</pre></div> </div></div></div></div></div></div></div><div class=\"sk-item\"><div class=\"sk-estimator fitted sk-toggleable\"><input class=\"sk-toggleable__control sk-hidden--visually\" id=\"sk-estimator-id-10\" type=\"checkbox\" ><label for=\"sk-estimator-id-10\" class=\"sk-toggleable__label fitted sk-toggleable__label-arrow fitted\">&nbsp;LinearRegression<a class=\"sk-estimator-doc-link fitted\" rel=\"noreferrer\" target=\"_blank\" href=\"https://scikit-learn.org/1.4/modules/generated/sklearn.linear_model.LinearRegression.html\">?<span>Documentation for LinearRegression</span></a></label><div class=\"sk-toggleable__content fitted\"><pre>LinearRegression()</pre></div> </div></div></div></div></div></div></div></div></div></div></div>"
      ],
      "text/plain": [
       "GridSearchCV(cv=TimeSeriesSplit(gap=0, max_train_size=None, n_splits=3, test_size=None),\n",
       "             estimator=Pipeline(steps=[('preprocessor',\n",
       "                                        ColumnTransformer(remainder='passthrough',\n",
       "                                                          transformers=[('ohe',\n",
       "                                                                         OneHotEncoder(drop='first',\n",
       "                                                                                       handle_unknown='ignore',\n",
       "                                                                                       sparse_output=False),\n",
       "                                                                         ['hour',\n",
       "                                                                          'dayofweek']),\n",
       "                                                                        ('num',\n",
       "                                                                         StandardScaler(),\n",
       "                                                                         Index(['rolling_mean', 'lag_1', 'lag_2', 'lag...\n",
       "       'lag_7', 'lag_8', 'lag_9', 'lag_10', 'lag_11', 'lag_12', 'lag_13',\n",
       "       'lag_14', 'lag_15', 'lag_16', 'lag_17', 'lag_18', 'lag_19', 'lag_20',\n",
       "       'lag_21', 'lag_22', 'lag_23', 'lag_24'],\n",
       "      dtype='object'))])),\n",
       "                                       ('models', LinearRegression())]),\n",
       "             n_jobs=-1,\n",
       "             param_grid={'models': [RandomForestRegressor(random_state=42)],\n",
       "                         'models__max_depth': range(10, 15),\n",
       "                         'models__min_samples_split': [2, 5, 10]},\n",
       "             scoring='neg_root_mean_squared_error')"
      ]
     },
     "execution_count": 23,
     "metadata": {},
     "output_type": "execute_result"
    }
   ],
   "source": [
    "%%time\n",
    "\n",
    "params = {\n",
    "    'models': [RandomForestRegressor(random_state=RANDOM_STATE)],\n",
    "    'models__max_depth': range(10, 15),\n",
    "    'models__min_samples_split': [2, 5, 10]\n",
    "}\n",
    "\n",
    "grid_forest = GridSearchCV(pipe_final, \n",
    "                    params, \n",
    "                    scoring='neg_root_mean_squared_error', \n",
    "                    cv=cv, \n",
    "                    n_jobs=-1)\n",
    "\n",
    "grid_forest.fit(features_train, target_train)"
   ]
  },
  {
   "cell_type": "code",
   "execution_count": 24,
   "metadata": {
    "scrolled": true
   },
   "outputs": [
    {
     "name": "stdout",
     "output_type": "stream",
     "text": [
      "Лучшие параметры: {'models': RandomForestRegressor(random_state=42), 'models__max_depth': 14, 'models__min_samples_split': 5}\n",
      "RMSE случайного леса при кросс-валидации: 27.236\n"
     ]
    }
   ],
   "source": [
    "print(f'Лучшие параметры: {grid_forest.best_params_}')\n",
    "print(f'RMSE случайного леса при кросс-валидации: {-grid_forest.best_score_:.3f}')"
   ]
  },
  {
   "cell_type": "markdown",
   "metadata": {},
   "source": [
    "**CatBoostRegressor**"
   ]
  },
  {
   "cell_type": "code",
   "execution_count": 25,
   "metadata": {},
   "outputs": [
    {
     "name": "stdout",
     "output_type": "stream",
     "text": [
      "CPU times: user 4min 6s, sys: 8.72 s, total: 4min 15s\n",
      "Wall time: 5min 2s\n"
     ]
    },
    {
     "data": {
      "text/html": [
       "<style>#sk-container-id-2 {\n",
       "  /* Definition of color scheme common for light and dark mode */\n",
       "  --sklearn-color-text: black;\n",
       "  --sklearn-color-line: gray;\n",
       "  /* Definition of color scheme for unfitted estimators */\n",
       "  --sklearn-color-unfitted-level-0: #fff5e6;\n",
       "  --sklearn-color-unfitted-level-1: #f6e4d2;\n",
       "  --sklearn-color-unfitted-level-2: #ffe0b3;\n",
       "  --sklearn-color-unfitted-level-3: chocolate;\n",
       "  /* Definition of color scheme for fitted estimators */\n",
       "  --sklearn-color-fitted-level-0: #f0f8ff;\n",
       "  --sklearn-color-fitted-level-1: #d4ebff;\n",
       "  --sklearn-color-fitted-level-2: #b3dbfd;\n",
       "  --sklearn-color-fitted-level-3: cornflowerblue;\n",
       "\n",
       "  /* Specific color for light theme */\n",
       "  --sklearn-color-text-on-default-background: var(--sg-text-color, var(--theme-code-foreground, var(--jp-content-font-color1, black)));\n",
       "  --sklearn-color-background: var(--sg-background-color, var(--theme-background, var(--jp-layout-color0, white)));\n",
       "  --sklearn-color-border-box: var(--sg-text-color, var(--theme-code-foreground, var(--jp-content-font-color1, black)));\n",
       "  --sklearn-color-icon: #696969;\n",
       "\n",
       "  @media (prefers-color-scheme: dark) {\n",
       "    /* Redefinition of color scheme for dark theme */\n",
       "    --sklearn-color-text-on-default-background: var(--sg-text-color, var(--theme-code-foreground, var(--jp-content-font-color1, white)));\n",
       "    --sklearn-color-background: var(--sg-background-color, var(--theme-background, var(--jp-layout-color0, #111)));\n",
       "    --sklearn-color-border-box: var(--sg-text-color, var(--theme-code-foreground, var(--jp-content-font-color1, white)));\n",
       "    --sklearn-color-icon: #878787;\n",
       "  }\n",
       "}\n",
       "\n",
       "#sk-container-id-2 {\n",
       "  color: var(--sklearn-color-text);\n",
       "}\n",
       "\n",
       "#sk-container-id-2 pre {\n",
       "  padding: 0;\n",
       "}\n",
       "\n",
       "#sk-container-id-2 input.sk-hidden--visually {\n",
       "  border: 0;\n",
       "  clip: rect(1px 1px 1px 1px);\n",
       "  clip: rect(1px, 1px, 1px, 1px);\n",
       "  height: 1px;\n",
       "  margin: -1px;\n",
       "  overflow: hidden;\n",
       "  padding: 0;\n",
       "  position: absolute;\n",
       "  width: 1px;\n",
       "}\n",
       "\n",
       "#sk-container-id-2 div.sk-dashed-wrapped {\n",
       "  border: 1px dashed var(--sklearn-color-line);\n",
       "  margin: 0 0.4em 0.5em 0.4em;\n",
       "  box-sizing: border-box;\n",
       "  padding-bottom: 0.4em;\n",
       "  background-color: var(--sklearn-color-background);\n",
       "}\n",
       "\n",
       "#sk-container-id-2 div.sk-container {\n",
       "  /* jupyter's `normalize.less` sets `[hidden] { display: none; }`\n",
       "     but bootstrap.min.css set `[hidden] { display: none !important; }`\n",
       "     so we also need the `!important` here to be able to override the\n",
       "     default hidden behavior on the sphinx rendered scikit-learn.org.\n",
       "     See: https://github.com/scikit-learn/scikit-learn/issues/21755 */\n",
       "  display: inline-block !important;\n",
       "  position: relative;\n",
       "}\n",
       "\n",
       "#sk-container-id-2 div.sk-text-repr-fallback {\n",
       "  display: none;\n",
       "}\n",
       "\n",
       "div.sk-parallel-item,\n",
       "div.sk-serial,\n",
       "div.sk-item {\n",
       "  /* draw centered vertical line to link estimators */\n",
       "  background-image: linear-gradient(var(--sklearn-color-text-on-default-background), var(--sklearn-color-text-on-default-background));\n",
       "  background-size: 2px 100%;\n",
       "  background-repeat: no-repeat;\n",
       "  background-position: center center;\n",
       "}\n",
       "\n",
       "/* Parallel-specific style estimator block */\n",
       "\n",
       "#sk-container-id-2 div.sk-parallel-item::after {\n",
       "  content: \"\";\n",
       "  width: 100%;\n",
       "  border-bottom: 2px solid var(--sklearn-color-text-on-default-background);\n",
       "  flex-grow: 1;\n",
       "}\n",
       "\n",
       "#sk-container-id-2 div.sk-parallel {\n",
       "  display: flex;\n",
       "  align-items: stretch;\n",
       "  justify-content: center;\n",
       "  background-color: var(--sklearn-color-background);\n",
       "  position: relative;\n",
       "}\n",
       "\n",
       "#sk-container-id-2 div.sk-parallel-item {\n",
       "  display: flex;\n",
       "  flex-direction: column;\n",
       "}\n",
       "\n",
       "#sk-container-id-2 div.sk-parallel-item:first-child::after {\n",
       "  align-self: flex-end;\n",
       "  width: 50%;\n",
       "}\n",
       "\n",
       "#sk-container-id-2 div.sk-parallel-item:last-child::after {\n",
       "  align-self: flex-start;\n",
       "  width: 50%;\n",
       "}\n",
       "\n",
       "#sk-container-id-2 div.sk-parallel-item:only-child::after {\n",
       "  width: 0;\n",
       "}\n",
       "\n",
       "/* Serial-specific style estimator block */\n",
       "\n",
       "#sk-container-id-2 div.sk-serial {\n",
       "  display: flex;\n",
       "  flex-direction: column;\n",
       "  align-items: center;\n",
       "  background-color: var(--sklearn-color-background);\n",
       "  padding-right: 1em;\n",
       "  padding-left: 1em;\n",
       "}\n",
       "\n",
       "\n",
       "/* Toggleable style: style used for estimator/Pipeline/ColumnTransformer box that is\n",
       "clickable and can be expanded/collapsed.\n",
       "- Pipeline and ColumnTransformer use this feature and define the default style\n",
       "- Estimators will overwrite some part of the style using the `sk-estimator` class\n",
       "*/\n",
       "\n",
       "/* Pipeline and ColumnTransformer style (default) */\n",
       "\n",
       "#sk-container-id-2 div.sk-toggleable {\n",
       "  /* Default theme specific background. It is overwritten whether we have a\n",
       "  specific estimator or a Pipeline/ColumnTransformer */\n",
       "  background-color: var(--sklearn-color-background);\n",
       "}\n",
       "\n",
       "/* Toggleable label */\n",
       "#sk-container-id-2 label.sk-toggleable__label {\n",
       "  cursor: pointer;\n",
       "  display: block;\n",
       "  width: 100%;\n",
       "  margin-bottom: 0;\n",
       "  padding: 0.5em;\n",
       "  box-sizing: border-box;\n",
       "  text-align: center;\n",
       "}\n",
       "\n",
       "#sk-container-id-2 label.sk-toggleable__label-arrow:before {\n",
       "  /* Arrow on the left of the label */\n",
       "  content: \"▸\";\n",
       "  float: left;\n",
       "  margin-right: 0.25em;\n",
       "  color: var(--sklearn-color-icon);\n",
       "}\n",
       "\n",
       "#sk-container-id-2 label.sk-toggleable__label-arrow:hover:before {\n",
       "  color: var(--sklearn-color-text);\n",
       "}\n",
       "\n",
       "/* Toggleable content - dropdown */\n",
       "\n",
       "#sk-container-id-2 div.sk-toggleable__content {\n",
       "  max-height: 0;\n",
       "  max-width: 0;\n",
       "  overflow: hidden;\n",
       "  text-align: left;\n",
       "  /* unfitted */\n",
       "  background-color: var(--sklearn-color-unfitted-level-0);\n",
       "}\n",
       "\n",
       "#sk-container-id-2 div.sk-toggleable__content.fitted {\n",
       "  /* fitted */\n",
       "  background-color: var(--sklearn-color-fitted-level-0);\n",
       "}\n",
       "\n",
       "#sk-container-id-2 div.sk-toggleable__content pre {\n",
       "  margin: 0.2em;\n",
       "  border-radius: 0.25em;\n",
       "  color: var(--sklearn-color-text);\n",
       "  /* unfitted */\n",
       "  background-color: var(--sklearn-color-unfitted-level-0);\n",
       "}\n",
       "\n",
       "#sk-container-id-2 div.sk-toggleable__content.fitted pre {\n",
       "  /* unfitted */\n",
       "  background-color: var(--sklearn-color-fitted-level-0);\n",
       "}\n",
       "\n",
       "#sk-container-id-2 input.sk-toggleable__control:checked~div.sk-toggleable__content {\n",
       "  /* Expand drop-down */\n",
       "  max-height: 200px;\n",
       "  max-width: 100%;\n",
       "  overflow: auto;\n",
       "}\n",
       "\n",
       "#sk-container-id-2 input.sk-toggleable__control:checked~label.sk-toggleable__label-arrow:before {\n",
       "  content: \"▾\";\n",
       "}\n",
       "\n",
       "/* Pipeline/ColumnTransformer-specific style */\n",
       "\n",
       "#sk-container-id-2 div.sk-label input.sk-toggleable__control:checked~label.sk-toggleable__label {\n",
       "  color: var(--sklearn-color-text);\n",
       "  background-color: var(--sklearn-color-unfitted-level-2);\n",
       "}\n",
       "\n",
       "#sk-container-id-2 div.sk-label.fitted input.sk-toggleable__control:checked~label.sk-toggleable__label {\n",
       "  background-color: var(--sklearn-color-fitted-level-2);\n",
       "}\n",
       "\n",
       "/* Estimator-specific style */\n",
       "\n",
       "/* Colorize estimator box */\n",
       "#sk-container-id-2 div.sk-estimator input.sk-toggleable__control:checked~label.sk-toggleable__label {\n",
       "  /* unfitted */\n",
       "  background-color: var(--sklearn-color-unfitted-level-2);\n",
       "}\n",
       "\n",
       "#sk-container-id-2 div.sk-estimator.fitted input.sk-toggleable__control:checked~label.sk-toggleable__label {\n",
       "  /* fitted */\n",
       "  background-color: var(--sklearn-color-fitted-level-2);\n",
       "}\n",
       "\n",
       "#sk-container-id-2 div.sk-label label.sk-toggleable__label,\n",
       "#sk-container-id-2 div.sk-label label {\n",
       "  /* The background is the default theme color */\n",
       "  color: var(--sklearn-color-text-on-default-background);\n",
       "}\n",
       "\n",
       "/* On hover, darken the color of the background */\n",
       "#sk-container-id-2 div.sk-label:hover label.sk-toggleable__label {\n",
       "  color: var(--sklearn-color-text);\n",
       "  background-color: var(--sklearn-color-unfitted-level-2);\n",
       "}\n",
       "\n",
       "/* Label box, darken color on hover, fitted */\n",
       "#sk-container-id-2 div.sk-label.fitted:hover label.sk-toggleable__label.fitted {\n",
       "  color: var(--sklearn-color-text);\n",
       "  background-color: var(--sklearn-color-fitted-level-2);\n",
       "}\n",
       "\n",
       "/* Estimator label */\n",
       "\n",
       "#sk-container-id-2 div.sk-label label {\n",
       "  font-family: monospace;\n",
       "  font-weight: bold;\n",
       "  display: inline-block;\n",
       "  line-height: 1.2em;\n",
       "}\n",
       "\n",
       "#sk-container-id-2 div.sk-label-container {\n",
       "  text-align: center;\n",
       "}\n",
       "\n",
       "/* Estimator-specific */\n",
       "#sk-container-id-2 div.sk-estimator {\n",
       "  font-family: monospace;\n",
       "  border: 1px dotted var(--sklearn-color-border-box);\n",
       "  border-radius: 0.25em;\n",
       "  box-sizing: border-box;\n",
       "  margin-bottom: 0.5em;\n",
       "  /* unfitted */\n",
       "  background-color: var(--sklearn-color-unfitted-level-0);\n",
       "}\n",
       "\n",
       "#sk-container-id-2 div.sk-estimator.fitted {\n",
       "  /* fitted */\n",
       "  background-color: var(--sklearn-color-fitted-level-0);\n",
       "}\n",
       "\n",
       "/* on hover */\n",
       "#sk-container-id-2 div.sk-estimator:hover {\n",
       "  /* unfitted */\n",
       "  background-color: var(--sklearn-color-unfitted-level-2);\n",
       "}\n",
       "\n",
       "#sk-container-id-2 div.sk-estimator.fitted:hover {\n",
       "  /* fitted */\n",
       "  background-color: var(--sklearn-color-fitted-level-2);\n",
       "}\n",
       "\n",
       "/* Specification for estimator info (e.g. \"i\" and \"?\") */\n",
       "\n",
       "/* Common style for \"i\" and \"?\" */\n",
       "\n",
       ".sk-estimator-doc-link,\n",
       "a:link.sk-estimator-doc-link,\n",
       "a:visited.sk-estimator-doc-link {\n",
       "  float: right;\n",
       "  font-size: smaller;\n",
       "  line-height: 1em;\n",
       "  font-family: monospace;\n",
       "  background-color: var(--sklearn-color-background);\n",
       "  border-radius: 1em;\n",
       "  height: 1em;\n",
       "  width: 1em;\n",
       "  text-decoration: none !important;\n",
       "  margin-left: 1ex;\n",
       "  /* unfitted */\n",
       "  border: var(--sklearn-color-unfitted-level-1) 1pt solid;\n",
       "  color: var(--sklearn-color-unfitted-level-1);\n",
       "}\n",
       "\n",
       ".sk-estimator-doc-link.fitted,\n",
       "a:link.sk-estimator-doc-link.fitted,\n",
       "a:visited.sk-estimator-doc-link.fitted {\n",
       "  /* fitted */\n",
       "  border: var(--sklearn-color-fitted-level-1) 1pt solid;\n",
       "  color: var(--sklearn-color-fitted-level-1);\n",
       "}\n",
       "\n",
       "/* On hover */\n",
       "div.sk-estimator:hover .sk-estimator-doc-link:hover,\n",
       ".sk-estimator-doc-link:hover,\n",
       "div.sk-label-container:hover .sk-estimator-doc-link:hover,\n",
       ".sk-estimator-doc-link:hover {\n",
       "  /* unfitted */\n",
       "  background-color: var(--sklearn-color-unfitted-level-3);\n",
       "  color: var(--sklearn-color-background);\n",
       "  text-decoration: none;\n",
       "}\n",
       "\n",
       "div.sk-estimator.fitted:hover .sk-estimator-doc-link.fitted:hover,\n",
       ".sk-estimator-doc-link.fitted:hover,\n",
       "div.sk-label-container:hover .sk-estimator-doc-link.fitted:hover,\n",
       ".sk-estimator-doc-link.fitted:hover {\n",
       "  /* fitted */\n",
       "  background-color: var(--sklearn-color-fitted-level-3);\n",
       "  color: var(--sklearn-color-background);\n",
       "  text-decoration: none;\n",
       "}\n",
       "\n",
       "/* Span, style for the box shown on hovering the info icon */\n",
       ".sk-estimator-doc-link span {\n",
       "  display: none;\n",
       "  z-index: 9999;\n",
       "  position: relative;\n",
       "  font-weight: normal;\n",
       "  right: .2ex;\n",
       "  padding: .5ex;\n",
       "  margin: .5ex;\n",
       "  width: min-content;\n",
       "  min-width: 20ex;\n",
       "  max-width: 50ex;\n",
       "  color: var(--sklearn-color-text);\n",
       "  box-shadow: 2pt 2pt 4pt #999;\n",
       "  /* unfitted */\n",
       "  background: var(--sklearn-color-unfitted-level-0);\n",
       "  border: .5pt solid var(--sklearn-color-unfitted-level-3);\n",
       "}\n",
       "\n",
       ".sk-estimator-doc-link.fitted span {\n",
       "  /* fitted */\n",
       "  background: var(--sklearn-color-fitted-level-0);\n",
       "  border: var(--sklearn-color-fitted-level-3);\n",
       "}\n",
       "\n",
       ".sk-estimator-doc-link:hover span {\n",
       "  display: block;\n",
       "}\n",
       "\n",
       "/* \"?\"-specific style due to the `<a>` HTML tag */\n",
       "\n",
       "#sk-container-id-2 a.estimator_doc_link {\n",
       "  float: right;\n",
       "  font-size: 1rem;\n",
       "  line-height: 1em;\n",
       "  font-family: monospace;\n",
       "  background-color: var(--sklearn-color-background);\n",
       "  border-radius: 1rem;\n",
       "  height: 1rem;\n",
       "  width: 1rem;\n",
       "  text-decoration: none;\n",
       "  /* unfitted */\n",
       "  color: var(--sklearn-color-unfitted-level-1);\n",
       "  border: var(--sklearn-color-unfitted-level-1) 1pt solid;\n",
       "}\n",
       "\n",
       "#sk-container-id-2 a.estimator_doc_link.fitted {\n",
       "  /* fitted */\n",
       "  border: var(--sklearn-color-fitted-level-1) 1pt solid;\n",
       "  color: var(--sklearn-color-fitted-level-1);\n",
       "}\n",
       "\n",
       "/* On hover */\n",
       "#sk-container-id-2 a.estimator_doc_link:hover {\n",
       "  /* unfitted */\n",
       "  background-color: var(--sklearn-color-unfitted-level-3);\n",
       "  color: var(--sklearn-color-background);\n",
       "  text-decoration: none;\n",
       "}\n",
       "\n",
       "#sk-container-id-2 a.estimator_doc_link.fitted:hover {\n",
       "  /* fitted */\n",
       "  background-color: var(--sklearn-color-fitted-level-3);\n",
       "}\n",
       "</style><div id=\"sk-container-id-2\" class=\"sk-top-container\"><div class=\"sk-text-repr-fallback\"><pre>GridSearchCV(cv=TimeSeriesSplit(gap=0, max_train_size=None, n_splits=3, test_size=None),\n",
       "             estimator=&lt;catboost.core.CatBoostRegressor object at 0x7f37c9624cd0&gt;,\n",
       "             n_jobs=-1,\n",
       "             param_grid={&#x27;depth&#x27;: [4, 6], &#x27;l2_leaf_reg&#x27;: [1, 5],\n",
       "                         &#x27;min_data_in_leaf&#x27;: [5, 10]},\n",
       "             scoring=&#x27;neg_root_mean_squared_error&#x27;)</pre><b>In a Jupyter environment, please rerun this cell to show the HTML representation or trust the notebook. <br />On GitHub, the HTML representation is unable to render, please try loading this page with nbviewer.org.</b></div><div class=\"sk-container\" hidden><div class=\"sk-item sk-dashed-wrapped\"><div class=\"sk-label-container\"><div class=\"sk-label fitted sk-toggleable\"><input class=\"sk-toggleable__control sk-hidden--visually\" id=\"sk-estimator-id-11\" type=\"checkbox\" ><label for=\"sk-estimator-id-11\" class=\"sk-toggleable__label fitted sk-toggleable__label-arrow fitted\">&nbsp;&nbsp;GridSearchCV<a class=\"sk-estimator-doc-link fitted\" rel=\"noreferrer\" target=\"_blank\" href=\"https://scikit-learn.org/1.4/modules/generated/sklearn.model_selection.GridSearchCV.html\">?<span>Documentation for GridSearchCV</span></a><span class=\"sk-estimator-doc-link fitted\">i<span>Fitted</span></span></label><div class=\"sk-toggleable__content fitted\"><pre>GridSearchCV(cv=TimeSeriesSplit(gap=0, max_train_size=None, n_splits=3, test_size=None),\n",
       "             estimator=&lt;catboost.core.CatBoostRegressor object at 0x7f37c9624cd0&gt;,\n",
       "             n_jobs=-1,\n",
       "             param_grid={&#x27;depth&#x27;: [4, 6], &#x27;l2_leaf_reg&#x27;: [1, 5],\n",
       "                         &#x27;min_data_in_leaf&#x27;: [5, 10]},\n",
       "             scoring=&#x27;neg_root_mean_squared_error&#x27;)</pre></div> </div></div><div class=\"sk-parallel\"><div class=\"sk-parallel-item\"><div class=\"sk-item\"><div class=\"sk-label-container\"><div class=\"sk-label fitted sk-toggleable\"><input class=\"sk-toggleable__control sk-hidden--visually\" id=\"sk-estimator-id-12\" type=\"checkbox\" ><label for=\"sk-estimator-id-12\" class=\"sk-toggleable__label fitted sk-toggleable__label-arrow fitted\">estimator: CatBoostRegressor</label><div class=\"sk-toggleable__content fitted\"><pre>&lt;catboost.core.CatBoostRegressor object at 0x7f37c9624cd0&gt;</pre></div> </div></div><div class=\"sk-serial\"><div class=\"sk-item\"><div class=\"sk-estimator fitted sk-toggleable\"><input class=\"sk-toggleable__control sk-hidden--visually\" id=\"sk-estimator-id-13\" type=\"checkbox\" ><label for=\"sk-estimator-id-13\" class=\"sk-toggleable__label fitted sk-toggleable__label-arrow fitted\">CatBoostRegressor</label><div class=\"sk-toggleable__content fitted\"><pre>&lt;catboost.core.CatBoostRegressor object at 0x7f37c9624cd0&gt;</pre></div> </div></div></div></div></div></div></div></div></div>"
      ],
      "text/plain": [
       "GridSearchCV(cv=TimeSeriesSplit(gap=0, max_train_size=None, n_splits=3, test_size=None),\n",
       "             estimator=<catboost.core.CatBoostRegressor object at 0x7f37c9624cd0>,\n",
       "             n_jobs=-1,\n",
       "             param_grid={'depth': [4, 6], 'l2_leaf_reg': [1, 5],\n",
       "                         'min_data_in_leaf': [5, 10]},\n",
       "             scoring='neg_root_mean_squared_error')"
      ]
     },
     "execution_count": 25,
     "metadata": {},
     "output_type": "execute_result"
    }
   ],
   "source": [
    "%%time\n",
    "\n",
    "cb_params = {\n",
    "                'depth': [4, 6],\n",
    "                'l2_leaf_reg': [1, 5],\n",
    "                'min_data_in_leaf': [5, 10]\n",
    "               }\n",
    "\n",
    "grid_catboost = GridSearchCV(CatBoostRegressor(cat_features=['hour', 'dayofweek'], \n",
    "                                               iterations=2000, verbose=False, random_state=RANDOM_STATE), \n",
    "                    cb_params, \n",
    "                    scoring='neg_root_mean_squared_error', \n",
    "                    cv=cv, \n",
    "                    n_jobs=-1)\n",
    "grid_catboost.fit(features_train, target_train)"
   ]
  },
  {
   "cell_type": "code",
   "execution_count": 26,
   "metadata": {},
   "outputs": [
    {
     "name": "stdout",
     "output_type": "stream",
     "text": [
      "Лучшие параметры: {'depth': 4, 'l2_leaf_reg': 1, 'min_data_in_leaf': 5}\n",
      "RMSE случайного леса при кросс-валидации: 25.568\n"
     ]
    }
   ],
   "source": [
    "print(f'Лучшие параметры: {grid_catboost.best_params_}')\n",
    "print(f'RMSE случайного леса при кросс-валидации: {-grid_catboost.best_score_:.3f}')"
   ]
  },
  {
   "cell_type": "markdown",
   "metadata": {},
   "source": [
    "**Вывод:**\n",
    "\n",
    "Мы обучили 3 модели и подобрали гиперпараметры с помощью GridSearch. Для линеной регресии результат RMSE - 26.235, для случайного леса - 27.236, а для CatBoostRegressor - 25.568. Следовательно, для тестирования выберем модель CatBoostRegressor."
   ]
  },
  {
   "cell_type": "markdown",
   "metadata": {},
   "source": [
    "## Тестирование"
   ]
  },
  {
   "cell_type": "markdown",
   "metadata": {},
   "source": [
    "**Проверка полученной модели на адекватность**"
   ]
  },
  {
   "cell_type": "markdown",
   "metadata": {},
   "source": [
    "Для оценки на адекватность модели, попробуем дать предсказания сначала средним значением по всем тренировочным данным, а затем предсказанием значениями с предыдущих суток и с предыдущей недели."
   ]
  },
  {
   "cell_type": "code",
   "execution_count": 27,
   "metadata": {},
   "outputs": [
    {
     "name": "stdout",
     "output_type": "stream",
     "text": [
      "RMSE при таргете-константе: 84.688\n"
     ]
    }
   ],
   "source": [
    "constant_pred = np.ones(target_test.shape[0]) * target_train.mean()\n",
    "print(f'RMSE при таргете-константе: {root_mean_squared_error(target_test, constant_pred):.3f}')"
   ]
  },
  {
   "cell_type": "code",
   "execution_count": 28,
   "metadata": {},
   "outputs": [
    {
     "name": "stdout",
     "output_type": "stream",
     "text": [
      "RMSE при предсказании значением этого же часа с предыдущих суток: 57.303\n"
     ]
    }
   ],
   "source": [
    "day_shift = target_test.shift(24)\n",
    "day_shift.iloc[:24] = target_train.iloc[-24:]\n",
    "print(f'RMSE при предсказании значением этого же часа с предыдущих суток: \\\n",
    "{root_mean_squared_error(target_test, day_shift):.3f}')"
   ]
  },
  {
   "cell_type": "code",
   "execution_count": 29,
   "metadata": {},
   "outputs": [
    {
     "name": "stdout",
     "output_type": "stream",
     "text": [
      "RMSE при предсказании значением этого же часа и этого же дня недели с предыдущей недели: 39.542\n"
     ]
    }
   ],
   "source": [
    "week_shift = target_test.shift(168)\n",
    "week_shift.iloc[:168] = target_train.iloc[-168:]\n",
    "print(f'RMSE при предсказании значением этого же часа и этого же дня недели с предыдущей недели: \\\n",
    "{root_mean_squared_error(target_test, week_shift):.3f}')"
   ]
  },
  {
   "cell_type": "markdown",
   "metadata": {},
   "source": [
    "Оценим выбранную модель на тестовых данных."
   ]
  },
  {
   "cell_type": "code",
   "execution_count": 30,
   "metadata": {},
   "outputs": [
    {
     "name": "stdout",
     "output_type": "stream",
     "text": [
      "RMSE CatBoostRegressor на тестовых данных: 39.509\n"
     ]
    }
   ],
   "source": [
    "catboost_pred = grid_catboost.predict(features_test)\n",
    "print(f'RMSE CatBoostRegressor на тестовых данных: {root_mean_squared_error(target_test, catboost_pred):.3f}')"
   ]
  },
  {
   "cell_type": "code",
   "execution_count": 31,
   "metadata": {},
   "outputs": [
    {
     "data": {
      "image/png": "[encoded data removed]",
      "text/plain": [
       "<Figure size 1152x720 with 2 Axes>"
      ]
     },
     "metadata": {},
     "output_type": "display_data"
    }
   ],
   "source": [
    "model_data = pd.DataFrame({\"target\":target_test, \"predict\":catboost_pred})\n",
    "fig, axes = plt.subplots(2, 1, figsize=(16, 10))\n",
    "sns.lineplot(data=model_data[['target', 'predict']], ax=axes[0], palette=['k', 'r'])\n",
    "axes[0].set_ylabel('Количество заказов')\n",
    "sns.lineplot(data=model_data.loc['2018-08-22':'2018-08-24', ['target', 'predict']], ax=axes[1], palette=['k', 'r'])\n",
    "axes[1].set_ylabel('Количество заказов')\n",
    "plt.show()"
   ]
  },
  {
   "cell_type": "markdown",
   "metadata": {},
   "source": [
    "**Вывод:**\n",
    "\n",
    "Таким образом, наилучшая модель для прогноза количества заказов такси на следующий час, модель **CatBoostRegressor**, с параметром **depth = 4, l2_leaf_reg = 1, min_data_in_leaf = 5**, показывает результат RMSE на тестовых данных 39.509."
   ]
  },
  {
   "cell_type": "markdown",
   "metadata": {},
   "source": [
    "## Выводы"
   ]
  },
  {
   "cell_type": "markdown",
   "metadata": {},
   "source": [
    "При выполнении проекта были получены следующие результаты:\n",
    "\n",
    "1. На первом этапе произведена загрузка данных и их подготовка для обучения моделей.\n",
    "\n",
    "2. За время наблюдений наметился определенный тренд на общее увеличение заказов такси в течение часа. На графиках явно видна суточная сезонность. Ночью количество заказов стремится к нулю, в то время как вечерний час пик - момент самого сильного спроса на услуги такси.\n",
    "\n",
    "3. На третьем этапе к датасету были добавлены дополнительные признаки, а именно день недели, час, \"отстающие значения\" и скользящее среднее. На дополненном датасете подобраны оптимальные гиперпараметры для моделей. Выбрана модель с наименьшей RMSE CatBoostRegressor.\n",
    "\n",
    "4. На четвертом этапе проведено тестирование модели, а также проверка модели на адекватность. Показатель RMSE на тестовых данных у CatBoostRegressor = 39.509."
   ]
  },
  {
   "cell_type": "markdown",
   "metadata": {},
   "source": []
  }
 ],
 "metadata": {
  "ExecuteTimeLog": [
   {
    "duration": 404,
    "start_time": "2025-04-07T19:32:45.797Z"
   },
   {
    "duration": 3,
    "start_time": "2025-04-07T19:32:48.078Z"
   },
   {
    "duration": 84,
    "start_time": "2025-04-07T19:33:02.661Z"
   },
   {
    "duration": 12,
    "start_time": "2025-04-07T19:33:13.989Z"
   },
   {
    "duration": 39,
    "start_time": "2025-04-07T19:33:37.034Z"
   },
   {
    "duration": 10,
    "start_time": "2025-04-07T19:33:38.337Z"
   },
   {
    "duration": 6,
    "start_time": "2025-04-07T19:33:52.489Z"
   },
   {
    "duration": 12,
    "start_time": "2025-04-07T19:33:59.838Z"
   },
   {
    "duration": 3,
    "start_time": "2025-04-07T19:35:54.042Z"
   },
   {
    "duration": 11,
    "start_time": "2025-04-07T19:38:34.879Z"
   },
   {
    "duration": 4,
    "start_time": "2025-04-07T19:38:53.353Z"
   },
   {
    "duration": 71,
    "start_time": "2025-04-07T19:39:17.230Z"
   },
   {
    "duration": 7,
    "start_time": "2025-04-07T19:39:34.883Z"
   },
   {
    "duration": 50,
    "start_time": "2025-04-07T19:40:47.634Z"
   },
   {
    "duration": 3,
    "start_time": "2025-04-07T19:40:48.271Z"
   },
   {
    "duration": 10,
    "start_time": "2025-04-07T19:40:48.768Z"
   },
   {
    "duration": 13,
    "start_time": "2025-04-07T19:40:49.163Z"
   },
   {
    "duration": 5,
    "start_time": "2025-04-07T19:41:01.588Z"
   },
   {
    "duration": 11,
    "start_time": "2025-04-07T19:41:46.415Z"
   },
   {
    "duration": 10,
    "start_time": "2025-04-07T19:41:58.677Z"
   },
   {
    "duration": 458,
    "start_time": "2025-04-07T19:42:16.055Z"
   },
   {
    "duration": 50,
    "start_time": "2025-04-07T19:42:16.515Z"
   },
   {
    "duration": 12,
    "start_time": "2025-04-07T19:42:16.567Z"
   },
   {
    "duration": 13,
    "start_time": "2025-04-07T19:42:16.580Z"
   },
   {
    "duration": 13,
    "start_time": "2025-04-07T19:42:16.595Z"
   },
   {
    "duration": 18,
    "start_time": "2025-04-07T19:42:16.610Z"
   },
   {
    "duration": 3,
    "start_time": "2025-04-07T19:42:16.630Z"
   },
   {
    "duration": 18,
    "start_time": "2025-04-07T19:42:16.635Z"
   },
   {
    "duration": 950,
    "start_time": "2025-04-07T19:43:03.069Z"
   },
   {
    "duration": 339,
    "start_time": "2025-04-07T19:44:02.169Z"
   },
   {
    "duration": 311,
    "start_time": "2025-04-07T19:44:52.923Z"
   },
   {
    "duration": 165,
    "start_time": "2025-04-07T19:45:26.223Z"
   },
   {
    "duration": 377,
    "start_time": "2025-04-07T19:45:29.556Z"
   },
   {
    "duration": 273,
    "start_time": "2025-04-07T19:45:48.142Z"
   },
   {
    "duration": 310,
    "start_time": "2025-04-07T19:48:03.677Z"
   },
   {
    "duration": 300,
    "start_time": "2025-04-07T19:48:44.731Z"
   },
   {
    "duration": 4,
    "start_time": "2025-04-07T19:51:09.702Z"
   },
   {
    "duration": 10,
    "start_time": "2025-04-07T19:51:29.048Z"
   },
   {
    "duration": 11,
    "start_time": "2025-04-07T19:54:41.852Z"
   },
   {
    "duration": 105,
    "start_time": "2025-04-07T19:54:51.111Z"
   },
   {
    "duration": 11,
    "start_time": "2025-04-07T19:54:58.319Z"
   },
   {
    "duration": 7,
    "start_time": "2025-04-07T19:55:23.578Z"
   },
   {
    "duration": 9,
    "start_time": "2025-04-07T19:55:34.331Z"
   },
   {
    "duration": 9,
    "start_time": "2025-04-07T19:56:23.628Z"
   },
   {
    "duration": 11,
    "start_time": "2025-04-07T19:56:24.102Z"
   },
   {
    "duration": 1214,
    "start_time": "2025-04-07T19:56:34.834Z"
   },
   {
    "duration": 59,
    "start_time": "2025-04-07T19:56:36.051Z"
   },
   {
    "duration": 4,
    "start_time": "2025-04-07T19:56:36.112Z"
   },
   {
    "duration": 19,
    "start_time": "2025-04-07T19:56:36.118Z"
   },
   {
    "duration": 55,
    "start_time": "2025-04-07T19:56:36.140Z"
   },
   {
    "duration": 39,
    "start_time": "2025-04-07T19:56:36.198Z"
   },
   {
    "duration": 97,
    "start_time": "2025-04-07T19:56:36.239Z"
   },
   {
    "duration": 475,
    "start_time": "2025-04-07T19:56:36.338Z"
   },
   {
    "duration": 10,
    "start_time": "2025-04-07T19:56:36.815Z"
   },
   {
    "duration": 171,
    "start_time": "2025-04-07T19:56:36.827Z"
   },
   {
    "duration": 114,
    "start_time": "2025-04-07T19:57:40.339Z"
   },
   {
    "duration": 457,
    "start_time": "2025-04-07T19:58:39.285Z"
   },
   {
    "duration": 682,
    "start_time": "2025-04-07T19:59:49.394Z"
   },
   {
    "duration": 628,
    "start_time": "2025-04-07T19:59:58.570Z"
   },
   {
    "duration": 628,
    "start_time": "2025-04-07T20:00:52.775Z"
   },
   {
    "duration": 466,
    "start_time": "2025-04-07T20:00:58.503Z"
   },
   {
    "duration": 370,
    "start_time": "2025-04-07T20:01:25.248Z"
   },
   {
    "duration": 7,
    "start_time": "2025-04-07T20:02:50.846Z"
   },
   {
    "duration": 363,
    "start_time": "2025-04-07T20:02:51.033Z"
   },
   {
    "duration": 1233,
    "start_time": "2025-04-07T20:02:57.869Z"
   },
   {
    "duration": 48,
    "start_time": "2025-04-07T20:02:59.104Z"
   },
   {
    "duration": 4,
    "start_time": "2025-04-07T20:02:59.153Z"
   },
   {
    "duration": 16,
    "start_time": "2025-04-07T20:02:59.159Z"
   },
   {
    "duration": 12,
    "start_time": "2025-04-07T20:02:59.177Z"
   },
   {
    "duration": 5,
    "start_time": "2025-04-07T20:02:59.191Z"
   },
   {
    "duration": 30,
    "start_time": "2025-04-07T20:02:59.197Z"
   },
   {
    "duration": 576,
    "start_time": "2025-04-07T20:02:59.229Z"
   },
   {
    "duration": 9,
    "start_time": "2025-04-07T20:02:59.806Z"
   },
   {
    "duration": 375,
    "start_time": "2025-04-07T20:02:59.816Z"
   },
   {
    "duration": 40,
    "start_time": "2025-04-07T20:05:17.455Z"
   },
   {
    "duration": 125,
    "start_time": "2025-04-07T20:06:10.720Z"
   },
   {
    "duration": 8,
    "start_time": "2025-04-07T20:06:39.179Z"
   },
   {
    "duration": 21,
    "start_time": "2025-04-07T20:06:45.650Z"
   },
   {
    "duration": 21,
    "start_time": "2025-04-07T20:07:01.490Z"
   },
   {
    "duration": 8,
    "start_time": "2025-04-07T20:08:50.138Z"
   },
   {
    "duration": 356,
    "start_time": "2025-04-07T20:09:01.820Z"
   },
   {
    "duration": 65,
    "start_time": "2025-04-07T20:12:24.020Z"
   },
   {
    "duration": 819,
    "start_time": "2025-04-07T20:12:32.217Z"
   },
   {
    "duration": 916,
    "start_time": "2025-04-07T20:13:03.167Z"
   },
   {
    "duration": 792,
    "start_time": "2025-04-07T20:13:12.966Z"
   },
   {
    "duration": 1054,
    "start_time": "2025-04-07T20:13:57.176Z"
   },
   {
    "duration": 1055,
    "start_time": "2025-04-07T20:14:44.621Z"
   },
   {
    "duration": 5,
    "start_time": "2025-04-07T20:18:59.119Z"
   },
   {
    "duration": 5,
    "start_time": "2025-04-07T20:21:50.812Z"
   },
   {
    "duration": 42,
    "start_time": "2025-04-07T20:25:02.351Z"
   },
   {
    "duration": 7,
    "start_time": "2025-04-07T20:25:12.952Z"
   },
   {
    "duration": 25,
    "start_time": "2025-04-07T20:26:42.690Z"
   },
   {
    "duration": 19,
    "start_time": "2025-04-07T20:27:41.826Z"
   },
   {
    "duration": 11,
    "start_time": "2025-04-07T20:27:47.679Z"
   },
   {
    "duration": 11,
    "start_time": "2025-04-07T20:31:38.352Z"
   },
   {
    "duration": 1185,
    "start_time": "2025-04-07T20:32:12.612Z"
   },
   {
    "duration": 5,
    "start_time": "2025-04-07T20:34:11.806Z"
   },
   {
    "duration": 942,
    "start_time": "2025-04-07T20:34:12.728Z"
   },
   {
    "duration": 4,
    "start_time": "2025-04-07T20:34:20.428Z"
   },
   {
    "duration": 10,
    "start_time": "2025-04-07T20:34:20.954Z"
   },
   {
    "duration": 32,
    "start_time": "2025-04-07T20:34:24.802Z"
   },
   {
    "duration": 23,
    "start_time": "2025-04-07T20:34:47.675Z"
   },
   {
    "duration": 4,
    "start_time": "2025-04-07T20:36:55.780Z"
   },
   {
    "duration": 9,
    "start_time": "2025-04-07T20:36:57.274Z"
   },
   {
    "duration": 16,
    "start_time": "2025-04-07T20:36:58.103Z"
   },
   {
    "duration": 24,
    "start_time": "2025-04-07T20:37:04.903Z"
   },
   {
    "duration": 17,
    "start_time": "2025-04-07T20:37:28.988Z"
   },
   {
    "duration": 17,
    "start_time": "2025-04-07T20:37:30.006Z"
   },
   {
    "duration": 10,
    "start_time": "2025-04-07T20:37:36.266Z"
   },
   {
    "duration": 18,
    "start_time": "2025-04-07T20:37:36.846Z"
   },
   {
    "duration": 5,
    "start_time": "2025-04-07T20:37:58.381Z"
   },
   {
    "duration": 16,
    "start_time": "2025-04-07T20:38:22.857Z"
   },
   {
    "duration": 5,
    "start_time": "2025-04-07T20:38:50.330Z"
   },
   {
    "duration": 9,
    "start_time": "2025-04-07T20:38:50.901Z"
   },
   {
    "duration": 18,
    "start_time": "2025-04-07T20:38:51.869Z"
   },
   {
    "duration": 35,
    "start_time": "2025-04-07T20:38:56.599Z"
   },
   {
    "duration": 1484,
    "start_time": "2025-04-07T20:39:13.608Z"
   },
   {
    "duration": 49,
    "start_time": "2025-04-07T20:39:15.094Z"
   },
   {
    "duration": 40,
    "start_time": "2025-04-07T20:39:15.145Z"
   },
   {
    "duration": 32,
    "start_time": "2025-04-07T20:39:15.187Z"
   },
   {
    "duration": 95,
    "start_time": "2025-04-07T20:39:15.222Z"
   },
   {
    "duration": 107,
    "start_time": "2025-04-07T20:39:15.318Z"
   },
   {
    "duration": 45,
    "start_time": "2025-04-07T20:39:15.426Z"
   },
   {
    "duration": 588,
    "start_time": "2025-04-07T20:39:15.473Z"
   },
   {
    "duration": 8,
    "start_time": "2025-04-07T20:39:16.063Z"
   },
   {
    "duration": 453,
    "start_time": "2025-04-07T20:39:16.073Z"
   },
   {
    "duration": 1065,
    "start_time": "2025-04-07T20:39:16.528Z"
   },
   {
    "duration": 5,
    "start_time": "2025-04-07T20:39:17.596Z"
   },
   {
    "duration": 18,
    "start_time": "2025-04-07T20:39:17.603Z"
   },
   {
    "duration": 18,
    "start_time": "2025-04-07T20:39:17.623Z"
   },
   {
    "duration": 17,
    "start_time": "2025-04-07T20:40:21.188Z"
   },
   {
    "duration": 12,
    "start_time": "2025-04-07T20:59:50.468Z"
   },
   {
    "duration": 1544,
    "start_time": "2025-04-07T20:59:59.366Z"
   },
   {
    "duration": 50,
    "start_time": "2025-04-07T21:00:00.912Z"
   },
   {
    "duration": 34,
    "start_time": "2025-04-07T21:00:00.964Z"
   },
   {
    "duration": 71,
    "start_time": "2025-04-07T21:00:01.000Z"
   },
   {
    "duration": 192,
    "start_time": "2025-04-07T21:00:01.073Z"
   },
   {
    "duration": 101,
    "start_time": "2025-04-07T21:00:01.267Z"
   },
   {
    "duration": 383,
    "start_time": "2025-04-07T21:00:01.370Z"
   },
   {
    "duration": 809,
    "start_time": "2025-04-07T21:00:01.756Z"
   },
   {
    "duration": 9,
    "start_time": "2025-04-07T21:00:02.567Z"
   },
   {
    "duration": 683,
    "start_time": "2025-04-07T21:00:02.578Z"
   },
   {
    "duration": 1100,
    "start_time": "2025-04-07T21:00:03.262Z"
   },
   {
    "duration": 13,
    "start_time": "2025-04-07T21:00:04.364Z"
   },
   {
    "duration": 95,
    "start_time": "2025-04-07T21:00:04.379Z"
   },
   {
    "duration": 60,
    "start_time": "2025-04-07T21:00:04.476Z"
   },
   {
    "duration": 1744,
    "start_time": "2025-04-14T10:01:13.971Z"
   },
   {
    "duration": 70,
    "start_time": "2025-04-14T10:01:15.718Z"
   },
   {
    "duration": 4,
    "start_time": "2025-04-14T10:01:15.790Z"
   },
   {
    "duration": 14,
    "start_time": "2025-04-14T10:01:15.796Z"
   },
   {
    "duration": 14,
    "start_time": "2025-04-14T10:01:16.195Z"
   },
   {
    "duration": 5,
    "start_time": "2025-04-14T10:01:16.629Z"
   },
   {
    "duration": 14,
    "start_time": "2025-04-14T10:01:18.146Z"
   },
   {
    "duration": 516,
    "start_time": "2025-04-14T10:01:19.565Z"
   },
   {
    "duration": 9,
    "start_time": "2025-04-14T10:03:50.458Z"
   },
   {
    "duration": 736,
    "start_time": "2025-04-14T10:04:14.193Z"
   },
   {
    "duration": 391,
    "start_time": "2025-04-14T10:12:37.801Z"
   },
   {
    "duration": 281,
    "start_time": "2025-04-14T10:12:49.601Z"
   },
   {
    "duration": 441,
    "start_time": "2025-04-14T10:12:58.586Z"
   },
   {
    "duration": 645,
    "start_time": "2025-04-14T10:13:07.485Z"
   },
   {
    "duration": 732,
    "start_time": "2025-04-14T10:13:23.781Z"
   },
   {
    "duration": 646,
    "start_time": "2025-04-14T10:13:59.147Z"
   },
   {
    "duration": 638,
    "start_time": "2025-04-14T10:14:21.535Z"
   },
   {
    "duration": 15,
    "start_time": "2025-04-14T10:18:16.650Z"
   },
   {
    "duration": 395,
    "start_time": "2025-04-14T10:18:22.106Z"
   },
   {
    "duration": 419,
    "start_time": "2025-04-14T10:18:50.022Z"
   },
   {
    "duration": 461,
    "start_time": "2025-04-14T10:20:35.376Z"
   },
   {
    "duration": 7,
    "start_time": "2025-04-14T10:20:54.211Z"
   },
   {
    "duration": 656,
    "start_time": "2025-04-14T10:20:54.985Z"
   },
   {
    "duration": 517,
    "start_time": "2025-04-14T10:21:07.665Z"
   },
   {
    "duration": 507,
    "start_time": "2025-04-14T10:22:14.581Z"
   },
   {
    "duration": 511,
    "start_time": "2025-04-14T10:22:26.112Z"
   },
   {
    "duration": 511,
    "start_time": "2025-04-14T10:23:57.729Z"
   },
   {
    "duration": 1702,
    "start_time": "2025-04-14T10:24:02.845Z"
   },
   {
    "duration": 526,
    "start_time": "2025-04-14T10:25:32.800Z"
   },
   {
    "duration": 1595,
    "start_time": "2025-04-14T10:25:45.351Z"
   },
   {
    "duration": 1562,
    "start_time": "2025-04-14T10:27:14.292Z"
   },
   {
    "duration": 1583,
    "start_time": "2025-04-14T10:28:12.324Z"
   },
   {
    "duration": 1534,
    "start_time": "2025-04-14T10:29:00.604Z"
   },
   {
    "duration": 28,
    "start_time": "2025-04-14T10:29:50.084Z"
   },
   {
    "duration": 1009,
    "start_time": "2025-04-14T10:30:39.624Z"
   },
   {
    "duration": 589,
    "start_time": "2025-04-14T10:39:19.732Z"
   },
   {
    "duration": 27,
    "start_time": "2025-04-14T10:41:34.240Z"
   },
   {
    "duration": 818,
    "start_time": "2025-04-14T10:41:58.126Z"
   },
   {
    "duration": 584,
    "start_time": "2025-04-14T10:42:09.163Z"
   },
   {
    "duration": 821,
    "start_time": "2025-04-14T10:42:40.801Z"
   },
   {
    "duration": 956,
    "start_time": "2025-04-14T10:42:48.221Z"
   },
   {
    "duration": 860,
    "start_time": "2025-04-14T10:43:06.529Z"
   },
   {
    "duration": 887,
    "start_time": "2025-04-14T10:44:30.504Z"
   },
   {
    "duration": 952,
    "start_time": "2025-04-14T10:44:34.669Z"
   },
   {
    "duration": 770,
    "start_time": "2025-04-14T10:45:56.538Z"
   },
   {
    "duration": 845,
    "start_time": "2025-04-14T10:46:08.202Z"
   },
   {
    "duration": 810,
    "start_time": "2025-04-14T10:46:21.504Z"
   },
   {
    "duration": 4,
    "start_time": "2025-04-14T10:47:51.476Z"
   },
   {
    "duration": 26,
    "start_time": "2025-04-14T10:47:52.057Z"
   },
   {
    "duration": 35,
    "start_time": "2025-04-14T10:47:57.232Z"
   },
   {
    "duration": 37,
    "start_time": "2025-04-14T10:48:11.755Z"
   },
   {
    "duration": 7,
    "start_time": "2025-04-14T10:48:37.324Z"
   },
   {
    "duration": 24,
    "start_time": "2025-04-14T10:48:57.035Z"
   },
   {
    "duration": 8,
    "start_time": "2025-04-14T10:50:29.461Z"
   },
   {
    "duration": 4,
    "start_time": "2025-04-14T10:50:40.159Z"
   },
   {
    "duration": 9,
    "start_time": "2025-04-14T10:59:12.390Z"
   },
   {
    "duration": 5,
    "start_time": "2025-04-14T11:00:50.722Z"
   },
   {
    "duration": 12,
    "start_time": "2025-04-14T11:00:58.122Z"
   },
   {
    "duration": 5,
    "start_time": "2025-04-14T12:51:40.130Z"
   },
   {
    "duration": 16,
    "start_time": "2025-04-14T12:51:55.879Z"
   },
   {
    "duration": 8783,
    "start_time": "2025-04-14T12:53:37.025Z"
   },
   {
    "duration": 21380,
    "start_time": "2025-04-14T12:54:26.169Z"
   },
   {
    "duration": 4,
    "start_time": "2025-04-14T12:55:25.606Z"
   },
   {
    "duration": 5,
    "start_time": "2025-04-14T12:55:29.026Z"
   },
   {
    "duration": 3,
    "start_time": "2025-04-14T12:58:17.265Z"
   },
   {
    "duration": 59410,
    "start_time": "2025-04-14T12:59:24.071Z"
   },
   {
    "duration": 3,
    "start_time": "2025-04-14T13:00:23.483Z"
   },
   {
    "duration": 6,
    "start_time": "2025-04-14T13:08:13.911Z"
   },
   {
    "duration": 231,
    "start_time": "2025-04-14T13:08:46.428Z"
   },
   {
    "duration": 79088,
    "start_time": "2025-04-14T13:09:19.379Z"
   },
   {
    "duration": 4,
    "start_time": "2025-04-14T13:10:40.421Z"
   },
   {
    "duration": 79011,
    "start_time": "2025-04-14T13:17:17.474Z"
   },
   {
    "duration": 3,
    "start_time": "2025-04-14T13:18:36.487Z"
   },
   {
    "duration": 80569,
    "start_time": "2025-04-14T13:30:28.999Z"
   },
   {
    "duration": 3,
    "start_time": "2025-04-14T13:31:49.570Z"
   },
   {
    "duration": 79346,
    "start_time": "2025-04-14T13:53:05.348Z"
   },
   {
    "duration": 3,
    "start_time": "2025-04-14T13:54:24.696Z"
   },
   {
    "duration": 78188,
    "start_time": "2025-04-14T13:54:59.182Z"
   },
   {
    "duration": 3,
    "start_time": "2025-04-14T13:56:17.372Z"
   },
   {
    "duration": 84,
    "start_time": "2025-04-14T14:22:08.981Z"
   },
   {
    "duration": 64,
    "start_time": "2025-04-14T14:22:26.301Z"
   },
   {
    "duration": 5,
    "start_time": "2025-04-14T14:22:52.651Z"
   },
   {
    "duration": 552,
    "start_time": "2025-04-14T14:22:58.312Z"
   },
   {
    "duration": 531,
    "start_time": "2025-04-14T14:23:41.336Z"
   },
   {
    "duration": 9,
    "start_time": "2025-04-14T14:24:31.272Z"
   },
   {
    "duration": 674,
    "start_time": "2025-04-14T14:24:51.687Z"
   },
   {
    "duration": 59790,
    "start_time": "2025-04-14T14:24:52.363Z"
   },
   {
    "duration": 3,
    "start_time": "2025-04-14T14:25:52.161Z"
   },
   {
    "duration": 8,
    "start_time": "2025-04-14T14:32:05.590Z"
   },
   {
    "duration": 8,
    "start_time": "2025-04-14T14:32:16.097Z"
   },
   {
    "duration": 23,
    "start_time": "2025-04-14T14:33:55.919Z"
   },
   {
    "duration": 12,
    "start_time": "2025-04-14T14:34:46.107Z"
   },
   {
    "duration": 6,
    "start_time": "2025-04-14T14:35:00.270Z"
   },
   {
    "duration": 4,
    "start_time": "2025-04-14T14:36:54.582Z"
   },
   {
    "duration": 560,
    "start_time": "2025-04-14T14:37:10.879Z"
   },
   {
    "duration": 3,
    "start_time": "2025-04-14T14:39:16.091Z"
   },
   {
    "duration": 9,
    "start_time": "2025-04-14T14:39:16.434Z"
   },
   {
    "duration": 584,
    "start_time": "2025-04-14T14:39:18.872Z"
   },
   {
    "duration": 4,
    "start_time": "2025-04-14T14:40:24.641Z"
   },
   {
    "duration": 220,
    "start_time": "2025-04-14T14:40:28.473Z"
   },
   {
    "duration": 4,
    "start_time": "2025-04-14T14:43:44.956Z"
   },
   {
    "duration": 13,
    "start_time": "2025-04-14T14:43:45.826Z"
   },
   {
    "duration": 21,
    "start_time": "2025-04-14T14:43:46.563Z"
   },
   {
    "duration": 4,
    "start_time": "2025-04-14T14:43:58.691Z"
   },
   {
    "duration": 12,
    "start_time": "2025-04-14T14:43:59.009Z"
   },
   {
    "duration": 652,
    "start_time": "2025-04-14T14:43:59.392Z"
   },
   {
    "duration": 5,
    "start_time": "2025-04-14T14:44:51.278Z"
   },
   {
    "duration": 10,
    "start_time": "2025-04-14T14:44:51.521Z"
   },
   {
    "duration": 607,
    "start_time": "2025-04-14T14:44:51.745Z"
   },
   {
    "duration": 4,
    "start_time": "2025-04-14T14:45:28.400Z"
   },
   {
    "duration": 9,
    "start_time": "2025-04-14T14:45:28.713Z"
   },
   {
    "duration": 760,
    "start_time": "2025-04-14T14:45:29.200Z"
   },
   {
    "duration": 7,
    "start_time": "2025-04-14T14:46:03.912Z"
   },
   {
    "duration": 27,
    "start_time": "2025-04-14T14:46:04.246Z"
   },
   {
    "duration": 803,
    "start_time": "2025-04-14T14:46:04.602Z"
   },
   {
    "duration": 5,
    "start_time": "2025-04-14T14:46:15.042Z"
   },
   {
    "duration": 9,
    "start_time": "2025-04-14T14:46:15.265Z"
   },
   {
    "duration": 690,
    "start_time": "2025-04-14T14:46:15.693Z"
   },
   {
    "duration": 663,
    "start_time": "2025-04-14T14:46:40.537Z"
   },
   {
    "duration": 661,
    "start_time": "2025-04-14T14:46:49.257Z"
   },
   {
    "duration": 25,
    "start_time": "2025-04-14T17:41:17.377Z"
   },
   {
    "duration": 6,
    "start_time": "2025-04-14T17:41:50.119Z"
   },
   {
    "duration": 142304,
    "start_time": "2025-04-14T17:51:29.022Z"
   },
   {
    "duration": 4,
    "start_time": "2025-04-14T17:53:51.328Z"
   },
   {
    "duration": 98953,
    "start_time": "2025-04-14T17:54:16.193Z"
   },
   {
    "duration": 13,
    "start_time": "2025-04-14T17:55:55.148Z"
   },
   {
    "duration": 7,
    "start_time": "2025-04-14T18:34:07.785Z"
   },
   {
    "duration": 3752,
    "start_time": "2025-04-14T18:34:14.559Z"
   },
   {
    "duration": 53,
    "start_time": "2025-04-14T18:34:19.884Z"
   },
   {
    "duration": 5,
    "start_time": "2025-04-14T18:34:20.451Z"
   },
   {
    "duration": 16,
    "start_time": "2025-04-14T18:34:20.888Z"
   },
   {
    "duration": 18,
    "start_time": "2025-04-14T18:34:21.480Z"
   },
   {
    "duration": 8,
    "start_time": "2025-04-14T18:34:22.003Z"
   },
   {
    "duration": 19,
    "start_time": "2025-04-14T18:34:23.471Z"
   },
   {
    "duration": 8,
    "start_time": "2025-04-14T18:34:24.024Z"
   },
   {
    "duration": 889,
    "start_time": "2025-04-14T18:34:25.131Z"
   },
   {
    "duration": 605,
    "start_time": "2025-04-14T18:34:28.103Z"
   },
   {
    "duration": 1779,
    "start_time": "2025-04-15T10:20:38.316Z"
   },
   {
    "duration": 49,
    "start_time": "2025-04-15T10:20:40.097Z"
   },
   {
    "duration": 4,
    "start_time": "2025-04-15T10:20:40.295Z"
   },
   {
    "duration": 17,
    "start_time": "2025-04-15T10:20:40.647Z"
   },
   {
    "duration": 14,
    "start_time": "2025-04-15T10:20:40.853Z"
   },
   {
    "duration": 6,
    "start_time": "2025-04-15T10:20:41.051Z"
   },
   {
    "duration": 14,
    "start_time": "2025-04-15T10:20:42.698Z"
   },
   {
    "duration": 6,
    "start_time": "2025-04-15T10:20:43.629Z"
   },
   {
    "duration": 128,
    "start_time": "2025-04-15T10:21:47.070Z"
   },
   {
    "duration": 1015,
    "start_time": "2025-04-15T10:22:02.162Z"
   },
   {
    "duration": 1279,
    "start_time": "2025-04-15T10:22:47.291Z"
   },
   {
    "duration": 1247,
    "start_time": "2025-04-15T10:24:20.649Z"
   },
   {
    "duration": 1228,
    "start_time": "2025-04-15T10:24:33.678Z"
   },
   {
    "duration": 1127,
    "start_time": "2025-04-15T10:24:48.801Z"
   },
   {
    "duration": 1152,
    "start_time": "2025-04-15T10:25:06.809Z"
   },
   {
    "duration": 8,
    "start_time": "2025-04-15T12:07:25.612Z"
   },
   {
    "duration": 4,
    "start_time": "2025-04-15T12:07:40.615Z"
   },
   {
    "duration": 26,
    "start_time": "2025-04-15T12:07:44.171Z"
   },
   {
    "duration": 27,
    "start_time": "2025-04-15T12:07:46.943Z"
   },
   {
    "duration": 7,
    "start_time": "2025-04-15T12:07:53.768Z"
   },
   {
    "duration": 4,
    "start_time": "2025-04-15T12:07:57.892Z"
   },
   {
    "duration": 9,
    "start_time": "2025-04-15T12:12:22.906Z"
   },
   {
    "duration": 4,
    "start_time": "2025-04-15T12:12:48.246Z"
   },
   {
    "duration": 4,
    "start_time": "2025-04-15T12:12:58.812Z"
   },
   {
    "duration": 5,
    "start_time": "2025-04-15T12:13:16.692Z"
   },
   {
    "duration": 4,
    "start_time": "2025-04-15T12:13:17.030Z"
   },
   {
    "duration": 4,
    "start_time": "2025-04-15T12:14:07.028Z"
   },
   {
    "duration": 4,
    "start_time": "2025-04-15T12:14:08.309Z"
   },
   {
    "duration": 4,
    "start_time": "2025-04-15T12:14:22.098Z"
   },
   {
    "duration": 4,
    "start_time": "2025-04-15T12:15:02.687Z"
   },
   {
    "duration": 16,
    "start_time": "2025-04-15T12:15:03.321Z"
   },
   {
    "duration": 22,
    "start_time": "2025-04-15T12:15:51.120Z"
   },
   {
    "duration": 28,
    "start_time": "2025-04-15T12:16:12.577Z"
   },
   {
    "duration": 7258,
    "start_time": "2025-04-15T12:18:43.273Z"
   },
   {
    "duration": 2458,
    "start_time": "2025-04-15T12:18:56.543Z"
   },
   {
    "duration": 9,
    "start_time": "2025-04-15T12:19:01.316Z"
   },
   {
    "duration": 6,
    "start_time": "2025-04-15T12:19:12.849Z"
   },
   {
    "duration": 4,
    "start_time": "2025-04-15T12:19:13.022Z"
   },
   {
    "duration": 3,
    "start_time": "2025-04-15T12:19:13.316Z"
   },
   {
    "duration": 34,
    "start_time": "2025-04-15T12:19:14.130Z"
   },
   {
    "duration": 2532,
    "start_time": "2025-04-15T12:19:25.782Z"
   },
   {
    "duration": 1317,
    "start_time": "2025-04-15T12:19:28.842Z"
   },
   {
    "duration": 50,
    "start_time": "2025-04-15T12:19:30.161Z"
   },
   {
    "duration": 5,
    "start_time": "2025-04-15T12:19:30.390Z"
   },
   {
    "duration": 12,
    "start_time": "2025-04-15T12:19:30.554Z"
   },
   {
    "duration": 14,
    "start_time": "2025-04-15T12:19:30.713Z"
   },
   {
    "duration": 6,
    "start_time": "2025-04-15T12:19:30.876Z"
   },
   {
    "duration": 13,
    "start_time": "2025-04-15T12:19:31.680Z"
   },
   {
    "duration": 9,
    "start_time": "2025-04-15T12:19:32.002Z"
   },
   {
    "duration": 898,
    "start_time": "2025-04-15T12:19:32.515Z"
   },
   {
    "duration": 1384,
    "start_time": "2025-04-15T12:19:33.415Z"
   },
   {
    "duration": 1054,
    "start_time": "2025-04-15T12:19:35.698Z"
   },
   {
    "duration": 859,
    "start_time": "2025-04-15T12:19:36.898Z"
   },
   {
    "duration": 936,
    "start_time": "2025-04-15T12:19:37.759Z"
   },
   {
    "duration": 4,
    "start_time": "2025-04-15T12:19:40.888Z"
   },
   {
    "duration": 25,
    "start_time": "2025-04-15T12:19:43.317Z"
   },
   {
    "duration": 26,
    "start_time": "2025-04-15T12:19:44.627Z"
   },
   {
    "duration": 7,
    "start_time": "2025-04-15T12:19:46.330Z"
   },
   {
    "duration": 4,
    "start_time": "2025-04-15T12:19:47.162Z"
   },
   {
    "duration": 5,
    "start_time": "2025-04-15T12:19:48.221Z"
   },
   {
    "duration": 3,
    "start_time": "2025-04-15T12:19:48.576Z"
   },
   {
    "duration": 3,
    "start_time": "2025-04-15T12:19:49.097Z"
   },
   {
    "duration": 6712,
    "start_time": "2025-04-15T12:20:05.758Z"
   },
   {
    "duration": 822,
    "start_time": "2025-04-15T12:20:22.062Z"
   },
   {
    "duration": 640,
    "start_time": "2025-04-15T12:20:32.138Z"
   },
   {
    "duration": 14,
    "start_time": "2025-04-15T12:21:25.313Z"
   },
   {
    "duration": 96940,
    "start_time": "2025-04-15T12:21:46.894Z"
   },
   {
    "duration": 3,
    "start_time": "2025-04-15T12:23:23.836Z"
   },
   {
    "duration": 74643,
    "start_time": "2025-04-15T12:23:23.841Z"
   },
   {
    "duration": 4,
    "start_time": "2025-04-15T12:24:38.486Z"
   },
   {
    "duration": 11,
    "start_time": "2025-04-15T12:31:06.978Z"
   },
   {
    "duration": 7,
    "start_time": "2025-04-15T12:32:31.870Z"
   },
   {
    "duration": 720,
    "start_time": "2025-04-15T12:32:35.461Z"
   },
   {
    "duration": 822,
    "start_time": "2025-04-15T12:32:39.027Z"
   },
   {
    "duration": 691,
    "start_time": "2025-04-15T12:32:45.250Z"
   },
   {
    "duration": 6,
    "start_time": "2025-04-15T12:40:20.568Z"
   },
   {
    "duration": 40,
    "start_time": "2025-04-15T12:40:26.717Z"
   },
   {
    "duration": 4,
    "start_time": "2025-04-15T12:40:53.640Z"
   },
   {
    "duration": 38,
    "start_time": "2025-04-15T12:40:54.248Z"
   },
   {
    "duration": 7,
    "start_time": "2025-04-15T12:41:11.096Z"
   },
   {
    "duration": 78,
    "start_time": "2025-04-15T12:50:26.092Z"
   },
   {
    "duration": 128,
    "start_time": "2025-04-15T12:50:37.876Z"
   },
   {
    "duration": 5,
    "start_time": "2025-04-15T12:51:09.063Z"
   },
   {
    "duration": 12,
    "start_time": "2025-04-15T12:52:26.389Z"
   },
   {
    "duration": 8,
    "start_time": "2025-04-15T12:52:57.459Z"
   },
   {
    "duration": 13,
    "start_time": "2025-04-15T12:55:31.426Z"
   },
   {
    "duration": 16,
    "start_time": "2025-04-15T12:55:50.063Z"
   },
   {
    "duration": 14,
    "start_time": "2025-04-15T12:55:58.063Z"
   },
   {
    "duration": 15,
    "start_time": "2025-04-15T12:56:06.395Z"
   },
   {
    "duration": 6,
    "start_time": "2025-04-15T12:56:57.263Z"
   },
   {
    "duration": 7,
    "start_time": "2025-04-15T12:57:09.374Z"
   },
   {
    "duration": 6,
    "start_time": "2025-04-15T12:59:20.769Z"
   },
   {
    "duration": 7,
    "start_time": "2025-04-15T12:59:31.307Z"
   },
   {
    "duration": 5,
    "start_time": "2025-04-15T12:59:40.886Z"
   },
   {
    "duration": 6,
    "start_time": "2025-04-15T12:59:55.918Z"
   },
   {
    "duration": 6,
    "start_time": "2025-04-15T13:00:37.798Z"
   },
   {
    "duration": 6,
    "start_time": "2025-04-15T13:00:42.477Z"
   },
   {
    "duration": 4,
    "start_time": "2025-04-15T13:00:59.871Z"
   },
   {
    "duration": 6,
    "start_time": "2025-04-15T13:01:18.624Z"
   },
   {
    "duration": 7,
    "start_time": "2025-04-15T13:01:37.078Z"
   },
   {
    "duration": 4,
    "start_time": "2025-04-15T13:02:13.279Z"
   },
   {
    "duration": 7,
    "start_time": "2025-04-15T13:02:20.218Z"
   },
   {
    "duration": 4,
    "start_time": "2025-04-15T13:03:08.948Z"
   },
   {
    "duration": 7,
    "start_time": "2025-04-15T13:04:58.352Z"
   },
   {
    "duration": 5,
    "start_time": "2025-04-15T13:05:03.816Z"
   },
   {
    "duration": 5,
    "start_time": "2025-04-15T13:05:42.344Z"
   },
   {
    "duration": 15,
    "start_time": "2025-04-15T13:08:40.812Z"
   },
   {
    "duration": 2605,
    "start_time": "2025-04-15T13:09:25.851Z"
   },
   {
    "duration": 1458,
    "start_time": "2025-04-15T13:09:28.459Z"
   },
   {
    "duration": 61,
    "start_time": "2025-04-15T13:09:29.919Z"
   },
   {
    "duration": 4,
    "start_time": "2025-04-15T13:09:29.982Z"
   },
   {
    "duration": 13,
    "start_time": "2025-04-15T13:09:29.988Z"
   },
   {
    "duration": 13,
    "start_time": "2025-04-15T13:09:30.003Z"
   },
   {
    "duration": 53,
    "start_time": "2025-04-15T13:09:30.018Z"
   },
   {
    "duration": 65,
    "start_time": "2025-04-15T13:09:30.073Z"
   },
   {
    "duration": 64,
    "start_time": "2025-04-15T13:09:30.140Z"
   },
   {
    "duration": 887,
    "start_time": "2025-04-15T13:09:30.206Z"
   },
   {
    "duration": 1448,
    "start_time": "2025-04-15T13:09:31.095Z"
   },
   {
    "duration": 871,
    "start_time": "2025-04-15T13:09:32.544Z"
   },
   {
    "duration": 965,
    "start_time": "2025-04-15T13:09:33.417Z"
   },
   {
    "duration": 4,
    "start_time": "2025-04-15T13:09:34.384Z"
   },
   {
    "duration": 28,
    "start_time": "2025-04-15T13:09:34.390Z"
   },
   {
    "duration": 27,
    "start_time": "2025-04-15T13:09:34.420Z"
   },
   {
    "duration": 33,
    "start_time": "2025-04-15T13:09:34.449Z"
   },
   {
    "duration": 26,
    "start_time": "2025-04-15T13:09:34.484Z"
   },
   {
    "duration": 27,
    "start_time": "2025-04-15T13:09:34.512Z"
   },
   {
    "duration": 144,
    "start_time": "2025-04-15T13:09:34.540Z"
   },
   {
    "duration": 0,
    "start_time": "2025-04-15T13:09:34.686Z"
   },
   {
    "duration": 0,
    "start_time": "2025-04-15T13:09:34.688Z"
   },
   {
    "duration": 0,
    "start_time": "2025-04-15T13:09:34.690Z"
   },
   {
    "duration": 0,
    "start_time": "2025-04-15T13:09:34.691Z"
   },
   {
    "duration": 0,
    "start_time": "2025-04-15T13:09:34.692Z"
   },
   {
    "duration": 0,
    "start_time": "2025-04-15T13:09:34.693Z"
   },
   {
    "duration": 0,
    "start_time": "2025-04-15T13:09:34.694Z"
   },
   {
    "duration": 0,
    "start_time": "2025-04-15T13:09:34.695Z"
   },
   {
    "duration": 0,
    "start_time": "2025-04-15T13:09:34.696Z"
   },
   {
    "duration": 0,
    "start_time": "2025-04-15T13:09:34.697Z"
   },
   {
    "duration": 0,
    "start_time": "2025-04-15T13:09:34.698Z"
   },
   {
    "duration": 3,
    "start_time": "2025-04-15T13:11:32.127Z"
   },
   {
    "duration": 3,
    "start_time": "2025-04-15T13:11:33.088Z"
   },
   {
    "duration": 532,
    "start_time": "2025-04-15T13:11:33.451Z"
   },
   {
    "duration": 125845,
    "start_time": "2025-04-15T13:11:35.333Z"
   },
   {
    "duration": 3,
    "start_time": "2025-04-15T13:13:41.180Z"
   },
   {
    "duration": 75857,
    "start_time": "2025-04-15T13:13:41.184Z"
   },
   {
    "duration": 3,
    "start_time": "2025-04-15T13:14:57.044Z"
   },
   {
    "duration": 9,
    "start_time": "2025-04-15T13:14:57.048Z"
   },
   {
    "duration": 11,
    "start_time": "2025-04-15T13:14:57.059Z"
   },
   {
    "duration": 15,
    "start_time": "2025-04-15T13:14:57.072Z"
   },
   {
    "duration": 9,
    "start_time": "2025-04-15T13:14:57.089Z"
   },
   {
    "duration": 686,
    "start_time": "2025-04-15T13:14:57.100Z"
   },
   {
    "duration": 13,
    "start_time": "2025-04-15T13:16:51.696Z"
   },
   {
    "duration": 8,
    "start_time": "2025-04-15T13:17:03.844Z"
   },
   {
    "duration": 5,
    "start_time": "2025-04-15T13:17:13.069Z"
   },
   {
    "duration": 5,
    "start_time": "2025-04-15T13:17:14.120Z"
   },
   {
    "duration": 6,
    "start_time": "2025-04-15T13:17:14.995Z"
   },
   {
    "duration": 16,
    "start_time": "2025-04-15T13:17:19.201Z"
   },
   {
    "duration": 6,
    "start_time": "2025-04-15T13:17:27.633Z"
   },
   {
    "duration": 108523,
    "start_time": "2025-04-15T13:19:29.743Z"
   },
   {
    "duration": 4,
    "start_time": "2025-04-15T13:21:18.268Z"
   },
   {
    "duration": 8,
    "start_time": "2025-04-15T13:21:31.798Z"
   },
   {
    "duration": 84,
    "start_time": "2025-04-15T13:21:59.716Z"
   },
   {
    "duration": 132156,
    "start_time": "2025-04-15T13:22:16.692Z"
   },
   {
    "duration": 4,
    "start_time": "2025-04-15T13:24:28.850Z"
   },
   {
    "duration": 55301,
    "start_time": "2025-04-15T13:27:54.349Z"
   },
   {
    "duration": 3,
    "start_time": "2025-04-15T13:28:49.653Z"
   },
   {
    "duration": 5,
    "start_time": "2025-04-15T13:29:17.547Z"
   },
   {
    "duration": 6,
    "start_time": "2025-04-15T13:29:18.300Z"
   },
   {
    "duration": 5,
    "start_time": "2025-04-15T13:29:19.189Z"
   },
   {
    "duration": 6,
    "start_time": "2025-04-15T13:29:21.397Z"
   },
   {
    "duration": 212832,
    "start_time": "2025-04-15T13:30:05.834Z"
   },
   {
    "duration": 3,
    "start_time": "2025-04-15T13:33:38.668Z"
   },
   {
    "duration": 7,
    "start_time": "2025-04-15T13:34:35.200Z"
   },
   {
    "duration": 328206,
    "start_time": "2025-04-15T13:37:01.185Z"
   },
   {
    "duration": 4,
    "start_time": "2025-04-15T13:42:29.392Z"
   },
   {
    "duration": 8,
    "start_time": "2025-04-15T13:44:56.696Z"
   },
   {
    "duration": 288974,
    "start_time": "2025-04-15T13:46:07.898Z"
   },
   {
    "duration": 3,
    "start_time": "2025-04-15T13:50:56.874Z"
   },
   {
    "duration": 7,
    "start_time": "2025-04-15T13:51:11.158Z"
   },
   {
    "duration": 135262,
    "start_time": "2025-04-15T13:51:54.011Z"
   },
   {
    "duration": 3,
    "start_time": "2025-04-15T13:54:09.275Z"
   },
   {
    "duration": 7,
    "start_time": "2025-04-15T13:54:19.591Z"
   },
   {
    "duration": 254170,
    "start_time": "2025-04-15T13:54:51.458Z"
   },
   {
    "duration": 3,
    "start_time": "2025-04-15T13:59:05.629Z"
   },
   {
    "duration": 8,
    "start_time": "2025-04-15T14:01:42.647Z"
   },
   {
    "duration": 697,
    "start_time": "2025-04-15T19:00:28.447Z"
   },
   {
    "duration": 2854,
    "start_time": "2025-04-15T20:06:46.838Z"
   },
   {
    "duration": 1537,
    "start_time": "2025-04-15T20:06:49.695Z"
   },
   {
    "duration": 63,
    "start_time": "2025-04-15T20:06:51.234Z"
   },
   {
    "duration": 4,
    "start_time": "2025-04-15T20:06:51.299Z"
   },
   {
    "duration": 22,
    "start_time": "2025-04-15T20:06:51.306Z"
   },
   {
    "duration": 15,
    "start_time": "2025-04-15T20:06:51.330Z"
   },
   {
    "duration": 32,
    "start_time": "2025-04-15T20:06:51.346Z"
   },
   {
    "duration": 64,
    "start_time": "2025-04-15T20:06:51.381Z"
   },
   {
    "duration": 13,
    "start_time": "2025-04-15T20:06:51.447Z"
   },
   {
    "duration": 963,
    "start_time": "2025-04-15T20:06:51.462Z"
   },
   {
    "duration": 1416,
    "start_time": "2025-04-15T20:06:52.427Z"
   },
   {
    "duration": 885,
    "start_time": "2025-04-15T20:06:53.845Z"
   },
   {
    "duration": 974,
    "start_time": "2025-04-15T20:06:54.732Z"
   },
   {
    "duration": 4,
    "start_time": "2025-04-15T20:06:55.710Z"
   },
   {
    "duration": 53,
    "start_time": "2025-04-15T20:06:55.715Z"
   },
   {
    "duration": 35,
    "start_time": "2025-04-15T20:06:55.770Z"
   },
   {
    "duration": 46,
    "start_time": "2025-04-15T20:06:55.806Z"
   },
   {
    "duration": 44,
    "start_time": "2025-04-15T20:06:55.854Z"
   },
   {
    "duration": 30,
    "start_time": "2025-04-15T20:06:55.901Z"
   },
   {
    "duration": 10,
    "start_time": "2025-04-15T20:06:55.934Z"
   },
   {
    "duration": 52,
    "start_time": "2025-04-15T20:06:55.945Z"
   },
   {
    "duration": 881,
    "start_time": "2025-04-15T20:06:55.999Z"
   },
   {
    "duration": 137201,
    "start_time": "2025-04-15T20:06:56.885Z"
   },
   {
    "duration": 4,
    "start_time": "2025-04-15T20:09:14.088Z"
   },
   {
    "duration": 264397,
    "start_time": "2025-04-15T20:09:14.094Z"
   },
   {
    "duration": 4,
    "start_time": "2025-04-15T20:13:38.493Z"
   },
   {
    "duration": 16,
    "start_time": "2025-04-15T20:13:38.498Z"
   },
   {
    "duration": 7,
    "start_time": "2025-04-15T20:13:38.515Z"
   },
   {
    "duration": 15,
    "start_time": "2025-04-15T20:13:38.523Z"
   },
   {
    "duration": 10,
    "start_time": "2025-04-15T20:13:38.540Z"
   },
   {
    "duration": 746,
    "start_time": "2025-04-15T20:13:38.552Z"
   },
   {
    "duration": 2668,
    "start_time": "2025-04-15T20:23:58.728Z"
   },
   {
    "duration": 1496,
    "start_time": "2025-04-15T20:24:01.399Z"
   },
   {
    "duration": 51,
    "start_time": "2025-04-15T20:24:02.897Z"
   },
   {
    "duration": 34,
    "start_time": "2025-04-15T20:24:02.950Z"
   },
   {
    "duration": 56,
    "start_time": "2025-04-15T20:24:02.987Z"
   },
   {
    "duration": 191,
    "start_time": "2025-04-15T20:24:03.045Z"
   },
   {
    "duration": 23,
    "start_time": "2025-04-15T20:24:03.238Z"
   },
   {
    "duration": 46,
    "start_time": "2025-04-15T20:24:03.263Z"
   },
   {
    "duration": 6,
    "start_time": "2025-04-15T20:24:03.312Z"
   },
   {
    "duration": 917,
    "start_time": "2025-04-15T20:24:03.320Z"
   },
   {
    "duration": 1404,
    "start_time": "2025-04-15T20:24:04.239Z"
   },
   {
    "duration": 944,
    "start_time": "2025-04-15T20:24:05.645Z"
   },
   {
    "duration": 1000,
    "start_time": "2025-04-15T20:24:06.591Z"
   },
   {
    "duration": 5,
    "start_time": "2025-04-15T20:24:07.594Z"
   },
   {
    "duration": 50,
    "start_time": "2025-04-15T20:24:07.601Z"
   },
   {
    "duration": 29,
    "start_time": "2025-04-15T20:24:07.653Z"
   },
   {
    "duration": 10,
    "start_time": "2025-04-15T20:24:07.684Z"
   },
   {
    "duration": 6,
    "start_time": "2025-04-15T20:24:07.697Z"
   },
   {
    "duration": 8,
    "start_time": "2025-04-15T20:24:07.705Z"
   },
   {
    "duration": 16,
    "start_time": "2025-04-15T20:24:07.714Z"
   },
   {
    "duration": 38,
    "start_time": "2025-04-15T20:24:07.732Z"
   },
   {
    "duration": 906,
    "start_time": "2025-04-15T20:24:07.772Z"
   },
   {
    "duration": 134454,
    "start_time": "2025-04-15T20:24:08.684Z"
   },
   {
    "duration": 4,
    "start_time": "2025-04-15T20:26:23.140Z"
   },
   {
    "duration": 257588,
    "start_time": "2025-04-15T20:26:23.146Z"
   },
   {
    "duration": 4,
    "start_time": "2025-04-15T20:30:40.735Z"
   },
   {
    "duration": 19,
    "start_time": "2025-04-15T20:30:40.741Z"
   },
   {
    "duration": 7,
    "start_time": "2025-04-15T20:30:40.761Z"
   },
   {
    "duration": 7,
    "start_time": "2025-04-15T20:30:40.770Z"
   },
   {
    "duration": 11,
    "start_time": "2025-04-15T20:30:40.779Z"
   },
   {
    "duration": 705,
    "start_time": "2025-04-15T20:30:40.792Z"
   },
   {
    "duration": 8196,
    "start_time": "2025-04-15T20:50:02.110Z"
   },
   {
    "duration": 1776,
    "start_time": "2025-04-15T20:50:10.318Z"
   },
   {
    "duration": 90,
    "start_time": "2025-04-15T20:50:12.096Z"
   },
   {
    "duration": 4,
    "start_time": "2025-04-15T20:50:12.188Z"
   },
   {
    "duration": 22,
    "start_time": "2025-04-15T20:50:12.195Z"
   },
   {
    "duration": 19,
    "start_time": "2025-04-15T20:50:12.219Z"
   },
   {
    "duration": 13,
    "start_time": "2025-04-15T20:50:12.240Z"
   },
   {
    "duration": 27,
    "start_time": "2025-04-15T20:50:12.254Z"
   },
   {
    "duration": 34,
    "start_time": "2025-04-15T20:50:12.283Z"
   },
   {
    "duration": 966,
    "start_time": "2025-04-15T20:50:12.320Z"
   },
   {
    "duration": 1631,
    "start_time": "2025-04-15T20:50:13.289Z"
   },
   {
    "duration": 1000,
    "start_time": "2025-04-15T20:50:14.925Z"
   },
   {
    "duration": 1067,
    "start_time": "2025-04-15T20:50:15.927Z"
   },
   {
    "duration": 11,
    "start_time": "2025-04-15T20:50:17.005Z"
   },
   {
    "duration": 30,
    "start_time": "2025-04-15T20:50:17.023Z"
   },
   {
    "duration": 28,
    "start_time": "2025-04-15T20:50:17.055Z"
   },
   {
    "duration": 36,
    "start_time": "2025-04-15T20:50:17.085Z"
   },
   {
    "duration": 13,
    "start_time": "2025-04-15T20:50:17.123Z"
   },
   {
    "duration": 10,
    "start_time": "2025-04-15T20:50:17.138Z"
   },
   {
    "duration": 16,
    "start_time": "2025-04-15T20:50:17.150Z"
   },
   {
    "duration": 5,
    "start_time": "2025-04-15T20:50:17.168Z"
   },
   {
    "duration": 933,
    "start_time": "2025-04-15T20:50:17.175Z"
   },
   {
    "duration": 150344,
    "start_time": "2025-04-15T20:50:18.111Z"
   },
   {
    "duration": 4,
    "start_time": "2025-04-15T20:52:48.458Z"
   },
   {
    "duration": 303040,
    "start_time": "2025-04-15T20:52:48.464Z"
   },
   {
    "duration": 7,
    "start_time": "2025-04-15T20:57:51.510Z"
   },
   {
    "duration": 12,
    "start_time": "2025-04-15T20:57:51.521Z"
   },
   {
    "duration": 9,
    "start_time": "2025-04-15T20:57:51.534Z"
   },
   {
    "duration": 12,
    "start_time": "2025-04-15T20:57:51.545Z"
   },
   {
    "duration": 73,
    "start_time": "2025-04-15T20:57:51.559Z"
   },
   {
    "duration": 981,
    "start_time": "2025-04-15T20:57:51.634Z"
   }
  ],
  "kernelspec": {
   "display_name": "Python 3 (ipykernel)",
   "language": "python",
   "name": "python3"
  },
  "language_info": {
   "codemirror_mode": {
    "name": "ipython",
    "version": 3
   },
   "file_extension": ".py",
   "mimetype": "text/x-python",
   "name": "python",
   "nbconvert_exporter": "python",
   "pygments_lexer": "ipython3",
   "version": "3.9.5"
  },
  "toc": {
   "base_numbering": 1,
   "nav_menu": {},
   "number_sections": true,
   "sideBar": true,
   "skip_h1_title": true,
   "title_cell": "Содержание",
   "title_sidebar": "Contents",
   "toc_cell": true,
   "toc_position": {
    "height": "calc(100% - 180px)",
    "left": "10px",
    "top": "150px",
    "width": "294.4px"
   },
   "toc_section_display": true,
   "toc_window_display": true
  }
 },
 "nbformat": 4,
 "nbformat_minor": 2
}
